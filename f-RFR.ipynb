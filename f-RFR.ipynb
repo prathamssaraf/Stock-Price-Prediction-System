{
 "cells": [
  {
   "cell_type": "code",
   "execution_count": 21,
   "metadata": {},
   "outputs": [],
   "source": [
    "import pandas as pd\n",
    "import numpy as np\n",
    "import matplotlib.pyplot as plt\n",
    "from sklearn.ensemble import RandomForestRegressor\n",
    "from sklearn.model_selection import train_test_split\n",
    "from sklearn.metrics import mean_squared_error"
   ]
  },
  {
   "attachments": {},
   "cell_type": "markdown",
   "metadata": {},
   "source": [
    "Convert this cell into code to automatically run the scraper to update the value\n",
    "\n",
    "%run C:/Users/prath/Desktop/Stock_Predictor/scraper/scraper.ipynb"
   ]
  },
  {
   "cell_type": "code",
   "execution_count": 22,
   "metadata": {},
   "outputs": [],
   "source": [
    "df = pd.read_csv(\"historic_data/csv/TCS.NS.csv\")\n",
    "\n",
    "# Drop all rows where volume is 0\n",
    "df = df[df[\"Volume\"] != 0]\n",
    "\n",
    "df['Date'] = pd.to_datetime(df['Date'], format='%d-%m-%Y')\n",
    "df['Date'] = df['Date'].dt.strftime('%Y-%m-%d')\n",
    "\n",
    "# Drop rows with NaN or infinite values\n",
    "df = df.replace([np.inf, -np.inf], np.nan) # replace inf values with NaN                                                                                                                                                                                                                                                            \n",
    "df = df.dropna() # drop rows with NaN values\n",
    "\n",
    "# Convert the date column to ordinal values\n",
    "df['Date'] = pd.to_datetime(df['Date'])\n",
    "df['Date'] = df['Date'].apply(lambda date: date.toordinal())\n",
    "\n",
    "# Split the data into features (X) and target (y)\n",
    "X = df.drop(\"Adjusted Close\", axis=1).sort_values(by=\"Date\")\n",
    "y = df[\"Adjusted Close\"]\n",
    "\n",
    "# Split the data into training and testing sets\n",
    "X_train, X_test, y_train, y_test = train_test_split(X, y, test_size=0.2)\n",
    "\n",
    "# Fit the Random Forest Regressor model to the training data\n",
    "rfr = RandomForestRegressor(n_estimators=10000, min_samples_leaf=10)\n",
    "rfr.fit(X_train, y_train)\n",
    "\n",
    "\n",
    "# Predict the stock prices on the testing set\n",
    "y_pred = rfr.predict(X_test)\n",
    "\n",
    "# Calculate the mean squared error of the predictions\n",
    "mse = mean_squared_error(y_test, y_pred)\n"
   ]
  },
  {
   "cell_type": "code",
   "execution_count": 23,
   "metadata": {},
   "outputs": [
    {
     "data": {
      "text/html": [
       "<div>\n",
       "<style scoped>\n",
       "    .dataframe tbody tr th:only-of-type {\n",
       "        vertical-align: middle;\n",
       "    }\n",
       "\n",
       "    .dataframe tbody tr th {\n",
       "        vertical-align: top;\n",
       "    }\n",
       "\n",
       "    .dataframe thead th {\n",
       "        text-align: right;\n",
       "    }\n",
       "</style>\n",
       "<table border=\"1\" class=\"dataframe\">\n",
       "  <thead>\n",
       "    <tr style=\"text-align: right;\">\n",
       "      <th></th>\n",
       "      <th>Date</th>\n",
       "      <th>Low</th>\n",
       "      <th>Open</th>\n",
       "      <th>Volume</th>\n",
       "      <th>High</th>\n",
       "      <th>Close</th>\n",
       "      <th>Adjusted Close</th>\n",
       "    </tr>\n",
       "  </thead>\n",
       "  <tbody>\n",
       "    <tr>\n",
       "      <th>0</th>\n",
       "      <td>731074</td>\n",
       "      <td>38.724998</td>\n",
       "      <td>38.724998</td>\n",
       "      <td>212976.0</td>\n",
       "      <td>40.000000</td>\n",
       "      <td>39.700001</td>\n",
       "      <td>28.484995</td>\n",
       "    </tr>\n",
       "    <tr>\n",
       "      <th>1</th>\n",
       "      <td>731075</td>\n",
       "      <td>38.875000</td>\n",
       "      <td>39.750000</td>\n",
       "      <td>153576.0</td>\n",
       "      <td>40.387501</td>\n",
       "      <td>39.162498</td>\n",
       "      <td>28.099331</td>\n",
       "    </tr>\n",
       "    <tr>\n",
       "      <th>2</th>\n",
       "      <td>731076</td>\n",
       "      <td>35.724998</td>\n",
       "      <td>39.250000</td>\n",
       "      <td>822776.0</td>\n",
       "      <td>39.250000</td>\n",
       "      <td>36.462502</td>\n",
       "      <td>26.162079</td>\n",
       "    </tr>\n",
       "    <tr>\n",
       "      <th>4</th>\n",
       "      <td>731078</td>\n",
       "      <td>35.750000</td>\n",
       "      <td>36.275002</td>\n",
       "      <td>811856.0</td>\n",
       "      <td>38.000000</td>\n",
       "      <td>36.375000</td>\n",
       "      <td>26.099285</td>\n",
       "    </tr>\n",
       "    <tr>\n",
       "      <th>5</th>\n",
       "      <td>731081</td>\n",
       "      <td>35.137501</td>\n",
       "      <td>36.674999</td>\n",
       "      <td>205880.0</td>\n",
       "      <td>36.674999</td>\n",
       "      <td>35.474998</td>\n",
       "      <td>25.453533</td>\n",
       "    </tr>\n",
       "    <tr>\n",
       "      <th>...</th>\n",
       "      <td>...</td>\n",
       "      <td>...</td>\n",
       "      <td>...</td>\n",
       "      <td>...</td>\n",
       "      <td>...</td>\n",
       "      <td>...</td>\n",
       "      <td>...</td>\n",
       "    </tr>\n",
       "    <tr>\n",
       "      <th>5150</th>\n",
       "      <td>738635</td>\n",
       "      <td>3147.500000</td>\n",
       "      <td>3183.000000</td>\n",
       "      <td>2024090.0</td>\n",
       "      <td>3191.199951</td>\n",
       "      <td>3176.000000</td>\n",
       "      <td>3176.000000</td>\n",
       "    </tr>\n",
       "    <tr>\n",
       "      <th>5151</th>\n",
       "      <td>738636</td>\n",
       "      <td>3181.000000</td>\n",
       "      <td>3181.000000</td>\n",
       "      <td>2000029.0</td>\n",
       "      <td>3208.399902</td>\n",
       "      <td>3198.149902</td>\n",
       "      <td>3198.149902</td>\n",
       "    </tr>\n",
       "    <tr>\n",
       "      <th>5152</th>\n",
       "      <td>738637</td>\n",
       "      <td>3170.649902</td>\n",
       "      <td>3185.000000</td>\n",
       "      <td>2434446.0</td>\n",
       "      <td>3199.199951</td>\n",
       "      <td>3187.949951</td>\n",
       "      <td>3187.949951</td>\n",
       "    </tr>\n",
       "    <tr>\n",
       "      <th>5153</th>\n",
       "      <td>738638</td>\n",
       "      <td>3196.250000</td>\n",
       "      <td>3200.399902</td>\n",
       "      <td>2931312.0</td>\n",
       "      <td>3227.250000</td>\n",
       "      <td>3219.250000</td>\n",
       "      <td>3219.250000</td>\n",
       "    </tr>\n",
       "    <tr>\n",
       "      <th>5154</th>\n",
       "      <td>738642</td>\n",
       "      <td>3210.000000</td>\n",
       "      <td>3235.000000</td>\n",
       "      <td>2320980.0</td>\n",
       "      <td>3235.000000</td>\n",
       "      <td>3219.399902</td>\n",
       "      <td>3219.399902</td>\n",
       "    </tr>\n",
       "  </tbody>\n",
       "</table>\n",
       "<p>4836 rows × 7 columns</p>\n",
       "</div>"
      ],
      "text/plain": [
       "        Date          Low         Open     Volume         High        Close  \\\n",
       "0     731074    38.724998    38.724998   212976.0    40.000000    39.700001   \n",
       "1     731075    38.875000    39.750000   153576.0    40.387501    39.162498   \n",
       "2     731076    35.724998    39.250000   822776.0    39.250000    36.462502   \n",
       "4     731078    35.750000    36.275002   811856.0    38.000000    36.375000   \n",
       "5     731081    35.137501    36.674999   205880.0    36.674999    35.474998   \n",
       "...      ...          ...          ...        ...          ...          ...   \n",
       "5150  738635  3147.500000  3183.000000  2024090.0  3191.199951  3176.000000   \n",
       "5151  738636  3181.000000  3181.000000  2000029.0  3208.399902  3198.149902   \n",
       "5152  738637  3170.649902  3185.000000  2434446.0  3199.199951  3187.949951   \n",
       "5153  738638  3196.250000  3200.399902  2931312.0  3227.250000  3219.250000   \n",
       "5154  738642  3210.000000  3235.000000  2320980.0  3235.000000  3219.399902   \n",
       "\n",
       "      Adjusted Close  \n",
       "0          28.484995  \n",
       "1          28.099331  \n",
       "2          26.162079  \n",
       "4          26.099285  \n",
       "5          25.453533  \n",
       "...              ...  \n",
       "5150     3176.000000  \n",
       "5151     3198.149902  \n",
       "5152     3187.949951  \n",
       "5153     3219.250000  \n",
       "5154     3219.399902  \n",
       "\n",
       "[4836 rows x 7 columns]"
      ]
     },
     "execution_count": 23,
     "metadata": {},
     "output_type": "execute_result"
    }
   ],
   "source": [
    "df"
   ]
  },
  {
   "cell_type": "code",
   "execution_count": 24,
   "metadata": {},
   "outputs": [
    {
     "data": {
      "image/png": "[encoded data removed]",
      "text/plain": [
       "<Figure size 432x288 with 1 Axes>"
      ]
     },
     "metadata": {
      "needs_background": "light"
     },
     "output_type": "display_data"
    }
   ],
   "source": [
    "# Plot the true stock prices versus the predicted stock prices\n",
    "plt.scatter(y_test, y_pred)\n",
    "plt.xlabel(\"True Stock Prices\")\n",
    "plt.ylabel(\"Predicted Stock Prices\")\n",
    "plt.title(\"Performance of Random Forest Regressor (MSE = %.2f)\" % mse)\n",
    "plt.show()"
   ]
  },
  {
   "cell_type": "code",
   "execution_count": 28,
   "metadata": {},
   "outputs": [
    {
     "name": "stdout",
     "output_type": "stream",
     "text": [
      "11.707566978987817\n"
     ]
    }
   ],
   "source": [
    "print(mse**0.5)"
   ]
  },
  {
   "cell_type": "code",
   "execution_count": 33,
   "metadata": {},
   "outputs": [
    {
     "name": "stdout",
     "output_type": "stream",
     "text": [
      "Predicted price of TCS day 1: 3173.598794784461\n",
      "Predicted price of TCS day 2: 3147.0989609491758\n"
     ]
    }
   ],
   "source": [
    "sorted_series = y_test.sort_index()\n",
    "last_index2 = sorted_series.index[-1]\n",
    "last_index1 = sorted_series.index[-2]\n",
    "idx2 = y_test.index.get_loc(last_index2)\n",
    "idx1 = y_test.index.get_loc(last_index1)\n",
    "print(\"Predicted price of TCS day 1:\" ,y_pred[idx2]+mse**0.5)\n",
    "print(\"Predicted price of TCS day 2:\" ,y_pred[idx1]+mse**0.5)"
   ]
  },
  {
   "cell_type": "code",
   "execution_count": 34,
   "metadata": {},
   "outputs": [],
   "source": [
    "import pickle\n",
    "\n",
    "# Assuming that you have already executed the code to get the values\n",
    "# Store the values in a dictionary\n",
    "values_dict = {\n",
    "    'rfr1': y_pred[idx2]+mse**0.5,\n",
    "    'rfr2': y_pred[idx1]+mse**0.5,\n",
    "}\n",
    "\n",
    "# Save the dictionary to a file using pickle\n",
    "with open('rfr.pickle', 'wb') as f:\n",
    "    pickle.dump(values_dict, f)\n"
   ]
  },
  {
   "cell_type": "code",
   "execution_count": null,
   "metadata": {},
   "outputs": [],
   "source": []
  }
 ],
 "metadata": {
  "kernelspec": {
   "display_name": "base",
   "language": "python",
   "name": "python3"
  },
  "language_info": {
   "codemirror_mode": {
    "name": "ipython",
    "version": 3
   },
   "file_extension": ".py",
   "mimetype": "text/x-python",
   "name": "python",
   "nbconvert_exporter": "python",
   "pygments_lexer": "ipython3",
   "version": "3.9.12"
  },
  "orig_nbformat": 4,
  "vscode": {
   "interpreter": {
    "hash": "e8070615c614b468fd1de6336963f9d2847f75d3a444f9b05616daa657a2c1ed"
   }
  }
 },
 "nbformat": 4,
 "nbformat_minor": 2
}
