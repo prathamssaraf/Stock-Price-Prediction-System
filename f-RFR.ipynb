{
 "cells": [
  {
   "cell_type": "code",
   "execution_count": 74,
   "metadata": {},
   "outputs": [],
   "source": [
    "import pandas as pd\n",
    "import numpy as np\n",
    "import matplotlib.pyplot as plt\n",
    "from sklearn.ensemble import RandomForestRegressor\n",
    "from sklearn.model_selection import train_test_split\n",
    "from sklearn.metrics import mean_squared_error"
   ]
  },
  {
   "attachments": {},
   "cell_type": "markdown",
   "metadata": {},
   "source": [
    "Convert this cell into code to automatically run the scraper to update the value\n",
    "\n",
    "%run C:/Users/prath/Desktop/Stock_Predictor/scraper/scraper.ipynb"
   ]
  },
  {
   "cell_type": "code",
   "execution_count": 76,
   "metadata": {},
   "outputs": [],
   "source": [
    "df = pd.read_csv(\"historic_data/csv/TCS.NS.csv\")\n",
    "\n",
    "# Drop all rows where volume is 0\n",
    "df = df[df[\"Volume\"] != 0]\n",
    "\n",
    "df['Date'] = pd.to_datetime(df['Date'], format='%d-%m-%Y')\n",
    "df['Date'] = df['Date'].dt.strftime('%Y-%m-%d')\n",
    "\n",
    "# Drop rows with NaN or infinite values\n",
    "df = df.replace([np.inf, -np.inf], np.nan) # replace inf values with NaN\n",
    "df = df.dropna() # drop rows with NaN values\n",
    "\n",
    "# Convert the date column to ordinal values\n",
    "df['Date'] = pd.to_datetime(df['Date'])\n",
    "df['Date'] = df['Date'].apply(lambda date: date.toordinal())\n",
    "\n",
    "# Split the data into features (X) and target (y)\n",
    "X = df.drop(\"Adjusted Close\", axis=1).sort_values(by=\"Date\")\n",
    "y = df[\"Adjusted Close\"]\n",
    "\n",
    "# Split the data into training and testing sets\n",
    "X_train, X_test, y_train, y_test = train_test_split(X, y, test_size=0.2,shuffle=False)\n",
    "\n",
    "# Fit the Random Forest Regressor model to the training data\n",
    "rfr = RandomForestRegressor(n_estimators=10000, min_samples_leaf=10)\n",
    "rfr.fit(X_train, y_train)\n",
    "\n",
    "\n",
    "# Predict the stock prices on the testing set\n",
    "y_pred = rfr.predict(X_test)\n",
    "\n",
    "# Calculate the mean squared error of the predictions\n",
    "mse = mean_squared_error(y_test, y_pred)\n"
   ]
  },
  {
   "cell_type": "code",
   "execution_count": 87,
   "metadata": {},
   "outputs": [
    {
     "data": {
      "text/plain": [
       "2960     865.614929\n",
       "1172     227.607361\n",
       "1282     188.385925\n",
       "4742    3653.800293\n",
       "3992    1807.080688\n",
       "           ...     \n",
       "2070     414.020874\n",
       "3660    1025.155518\n",
       "2901     885.113464\n",
       "3784    1137.548218\n",
       "4406    1761.231567\n",
       "Name: Adjusted Close, Length: 964, dtype: float64"
      ]
     },
     "execution_count": 87,
     "metadata": {},
     "output_type": "execute_result"
    }
   ],
   "source": [
    "y_test\n"
   ]
  },
  {
   "cell_type": "code",
   "execution_count": 78,
   "metadata": {},
   "outputs": [
    {
     "data": {
      "image/png": "[encoded data removed]",
      "text/plain": [
       "<Figure size 432x288 with 1 Axes>"
      ]
     },
     "metadata": {
      "needs_background": "light"
     },
     "output_type": "display_data"
    }
   ],
   "source": [
    "# Plot the true stock prices versus the predicted stock prices\n",
    "plt.scatter(y_test, y_pred)\n",
    "plt.xlabel(\"True Stock Prices\")\n",
    "plt.ylabel(\"Predicted Stock Prices\")\n",
    "plt.title(\"Performance of Random Forest Regressor (MSE = %.2f)\" % mse)\n",
    "plt.show()"
   ]
  },
  {
   "cell_type": "code",
   "execution_count": 86,
   "metadata": {},
   "outputs": [
    {
     "ename": "KeyError",
     "evalue": "'key of type tuple not found and not a MultiIndex'",
     "output_type": "error",
     "traceback": [
      "\u001b[1;31m---------------------------------------------------------------------------\u001b[0m",
      "\u001b[1;31mKeyError\u001b[0m                                  Traceback (most recent call last)",
      "\u001b[1;32mc:\\Users\\prath\\Desktop\\Stock_Predictor\\RFR.ipynb Cell 6\u001b[0m in \u001b[0;36m<cell line: 2>\u001b[1;34m()\u001b[0m\n\u001b[0;32m      <a href='vscode-notebook-cell:/c%3A/Users/prath/Desktop/Stock_Predictor/RFR.ipynb#X12sZmlsZQ%3D%3D?line=0'>1</a>\u001b[0m \u001b[39m# sort y_test based on the first column\u001b[39;00m\n\u001b[1;32m----> <a href='vscode-notebook-cell:/c%3A/Users/prath/Desktop/Stock_Predictor/RFR.ipynb#X12sZmlsZQ%3D%3D?line=1'>2</a>\u001b[0m sorted_indices \u001b[39m=\u001b[39m y_test[:, \u001b[39m0\u001b[39;49m]\u001b[39m.\u001b[39margsort()\n\u001b[0;32m      <a href='vscode-notebook-cell:/c%3A/Users/prath/Desktop/Stock_Predictor/RFR.ipynb#X12sZmlsZQ%3D%3D?line=2'>3</a>\u001b[0m y_test_sorted \u001b[39m=\u001b[39m y_test[sorted_indices]\n\u001b[0;32m      <a href='vscode-notebook-cell:/c%3A/Users/prath/Desktop/Stock_Predictor/RFR.ipynb#X12sZmlsZQ%3D%3D?line=4'>5</a>\u001b[0m \u001b[39m# sort y_pred based on the same order\u001b[39;00m\n",
      "File \u001b[1;32mc:\\Users\\prath\\anaconda3\\lib\\site-packages\\pandas\\core\\series.py:1007\u001b[0m, in \u001b[0;36mSeries.__getitem__\u001b[1;34m(self, key)\u001b[0m\n\u001b[0;32m   1004\u001b[0m     key \u001b[39m=\u001b[39m np\u001b[39m.\u001b[39masarray(key, dtype\u001b[39m=\u001b[39m\u001b[39mbool\u001b[39m)\n\u001b[0;32m   1005\u001b[0m     \u001b[39mreturn\u001b[39;00m \u001b[39mself\u001b[39m\u001b[39m.\u001b[39m_get_values(key)\n\u001b[1;32m-> 1007\u001b[0m \u001b[39mreturn\u001b[39;00m \u001b[39mself\u001b[39;49m\u001b[39m.\u001b[39;49m_get_with(key)\n",
      "File \u001b[1;32mc:\\Users\\prath\\anaconda3\\lib\\site-packages\\pandas\\core\\series.py:1022\u001b[0m, in \u001b[0;36mSeries._get_with\u001b[1;34m(self, key)\u001b[0m\n\u001b[0;32m   1017\u001b[0m     \u001b[39mraise\u001b[39;00m \u001b[39mTypeError\u001b[39;00m(\n\u001b[0;32m   1018\u001b[0m         \u001b[39m\"\u001b[39m\u001b[39mIndexing a Series with DataFrame is not \u001b[39m\u001b[39m\"\u001b[39m\n\u001b[0;32m   1019\u001b[0m         \u001b[39m\"\u001b[39m\u001b[39msupported, use the appropriate DataFrame column\u001b[39m\u001b[39m\"\u001b[39m\n\u001b[0;32m   1020\u001b[0m     )\n\u001b[0;32m   1021\u001b[0m \u001b[39melif\u001b[39;00m \u001b[39misinstance\u001b[39m(key, \u001b[39mtuple\u001b[39m):\n\u001b[1;32m-> 1022\u001b[0m     \u001b[39mreturn\u001b[39;00m \u001b[39mself\u001b[39;49m\u001b[39m.\u001b[39;49m_get_values_tuple(key)\n\u001b[0;32m   1024\u001b[0m \u001b[39melif\u001b[39;00m \u001b[39mnot\u001b[39;00m is_list_like(key):\n\u001b[0;32m   1025\u001b[0m     \u001b[39m# e.g. scalars that aren't recognized by lib.is_scalar, GH#32684\u001b[39;00m\n\u001b[0;32m   1026\u001b[0m     \u001b[39mreturn\u001b[39;00m \u001b[39mself\u001b[39m\u001b[39m.\u001b[39mloc[key]\n",
      "File \u001b[1;32mc:\\Users\\prath\\anaconda3\\lib\\site-packages\\pandas\\core\\series.py:1060\u001b[0m, in \u001b[0;36mSeries._get_values_tuple\u001b[1;34m(self, key)\u001b[0m\n\u001b[0;32m   1057\u001b[0m     \u001b[39mreturn\u001b[39;00m result\n\u001b[0;32m   1059\u001b[0m \u001b[39mif\u001b[39;00m \u001b[39mnot\u001b[39;00m \u001b[39misinstance\u001b[39m(\u001b[39mself\u001b[39m\u001b[39m.\u001b[39mindex, MultiIndex):\n\u001b[1;32m-> 1060\u001b[0m     \u001b[39mraise\u001b[39;00m \u001b[39mKeyError\u001b[39;00m(\u001b[39m\"\u001b[39m\u001b[39mkey of type tuple not found and not a MultiIndex\u001b[39m\u001b[39m\"\u001b[39m)\n\u001b[0;32m   1062\u001b[0m \u001b[39m# If key is contained, would have returned by now\u001b[39;00m\n\u001b[0;32m   1063\u001b[0m indexer, new_index \u001b[39m=\u001b[39m \u001b[39mself\u001b[39m\u001b[39m.\u001b[39mindex\u001b[39m.\u001b[39mget_loc_level(key)\n",
      "\u001b[1;31mKeyError\u001b[0m: 'key of type tuple not found and not a MultiIndex'"
     ]
    }
   ],
   "source": [
    "# sort y_test based on the first column\n",
    "sorted_indices = y_test[:, 0].argsort()\n",
    "y_test_sorted = y_test[sorted_indices]\n",
    "\n",
    "# sort y_pred based on the same order\n",
    "y_pred_sorted = y_pred[sorted_indices]\n",
    "\n",
    "# now both arrays are sorted based on the first column of y_test\n"
   ]
  },
  {
   "cell_type": "code",
   "execution_count": null,
   "metadata": {},
   "outputs": [],
   "source": []
  }
 ],
 "metadata": {
  "kernelspec": {
   "display_name": "base",
   "language": "python",
   "name": "python3"
  },
  "language_info": {
   "codemirror_mode": {
    "name": "ipython",
    "version": 3
   },
   "file_extension": ".py",
   "mimetype": "text/x-python",
   "name": "python",
   "nbconvert_exporter": "python",
   "pygments_lexer": "ipython3",
   "version": "3.9.12"
  },
  "orig_nbformat": 4,
  "vscode": {
   "interpreter": {
    "hash": "e8070615c614b468fd1de6336963f9d2847f75d3a444f9b05616daa657a2c1ed"
   }
  }
 },
 "nbformat": 4,
 "nbformat_minor": 2
}
