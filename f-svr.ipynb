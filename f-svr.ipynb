{
 "cells": [
  {
   "cell_type": "code",
   "execution_count": 1,
   "metadata": {},
   "outputs": [
    {
     "name": "stderr",
     "output_type": "stream",
     "text": [
      "c:\\Users\\prath\\anaconda3\\lib\\site-packages\\scipy\\__init__.py:146: UserWarning: A NumPy version >=1.16.5 and <1.23.0 is required for this version of SciPy (detected version 1.24.2\n",
      "  warnings.warn(f\"A NumPy version >={np_minversion} and <{np_maxversion}\"\n"
     ]
    }
   ],
   "source": [
    "import yfinance as yf\n",
    "import pandas as pd\n",
    "import numpy as np\n",
    "import plotly.graph_objects as go\n",
    "from sklearn.model_selection import train_test_split, GridSearchCV\n",
    "from sklearn.svm import SVR\n",
    "from datetime import date, timedelta\n",
    "import matplotlib.dates as mdates"
   ]
  },
  {
   "cell_type": "code",
   "execution_count": 2,
   "metadata": {},
   "outputs": [
    {
     "name": "stderr",
     "output_type": "stream",
     "text": [
      "C:\\Users\\prath\\AppData\\Local\\Temp\\ipykernel_21984\\461335973.py:6: FutureWarning: Columnar iteration over characters will be deprecated in future releases.\n",
      "  df['Year'], df['Month'], df['Day'] = date_split\n"
     ]
    },
    {
     "data": {
      "text/html": [
       "<div>\n",
       "<style scoped>\n",
       "    .dataframe tbody tr th:only-of-type {\n",
       "        vertical-align: middle;\n",
       "    }\n",
       "\n",
       "    .dataframe tbody tr th {\n",
       "        vertical-align: top;\n",
       "    }\n",
       "\n",
       "    .dataframe thead th {\n",
       "        text-align: right;\n",
       "    }\n",
       "</style>\n",
       "<table border=\"1\" class=\"dataframe\">\n",
       "  <thead>\n",
       "    <tr style=\"text-align: right;\">\n",
       "      <th></th>\n",
       "      <th>Date</th>\n",
       "      <th>index</th>\n",
       "      <th>Open</th>\n",
       "      <th>High</th>\n",
       "      <th>Low</th>\n",
       "      <th>Close</th>\n",
       "      <th>Volume</th>\n",
       "      <th>Adj Close</th>\n",
       "      <th>Year</th>\n",
       "      <th>Month</th>\n",
       "      <th>Day</th>\n",
       "    </tr>\n",
       "  </thead>\n",
       "  <tbody>\n",
       "    <tr>\n",
       "      <th>5124</th>\n",
       "      <td>19443.0</td>\n",
       "      <td>5133</td>\n",
       "      <td>3106.000000</td>\n",
       "      <td>3135.000000</td>\n",
       "      <td>1524217.0</td>\n",
       "      <td>3152.750000</td>\n",
       "      <td>0.31223</td>\n",
       "      <td>3122.300049</td>\n",
       "      <td>27</td>\n",
       "      <td>03</td>\n",
       "      <td>2023</td>\n",
       "    </tr>\n",
       "    <tr>\n",
       "      <th>5125</th>\n",
       "      <td>19444.0</td>\n",
       "      <td>5134</td>\n",
       "      <td>3110.149902</td>\n",
       "      <td>3127.000000</td>\n",
       "      <td>1303530.0</td>\n",
       "      <td>3149.550049</td>\n",
       "      <td>0.31159</td>\n",
       "      <td>3115.899902</td>\n",
       "      <td>28</td>\n",
       "      <td>03</td>\n",
       "      <td>2023</td>\n",
       "    </tr>\n",
       "    <tr>\n",
       "      <th>5126</th>\n",
       "      <td>19445.0</td>\n",
       "      <td>5135</td>\n",
       "      <td>3104.100098</td>\n",
       "      <td>3129.000000</td>\n",
       "      <td>1740616.0</td>\n",
       "      <td>3150.000000</td>\n",
       "      <td>0.31389</td>\n",
       "      <td>3138.899902</td>\n",
       "      <td>29</td>\n",
       "      <td>03</td>\n",
       "      <td>2023</td>\n",
       "    </tr>\n",
       "    <tr>\n",
       "      <th>5127</th>\n",
       "      <td>19447.0</td>\n",
       "      <td>5136</td>\n",
       "      <td>3152.000000</td>\n",
       "      <td>3189.949951</td>\n",
       "      <td>2382581.0</td>\n",
       "      <td>3213.000000</td>\n",
       "      <td>0.32059</td>\n",
       "      <td>3205.899902</td>\n",
       "      <td>31</td>\n",
       "      <td>03</td>\n",
       "      <td>2023</td>\n",
       "    </tr>\n",
       "    <tr>\n",
       "      <th>5128</th>\n",
       "      <td>19450.0</td>\n",
       "      <td>5137</td>\n",
       "      <td>3173.750000</td>\n",
       "      <td>3224.949951</td>\n",
       "      <td>1521830.0</td>\n",
       "      <td>3224.949951</td>\n",
       "      <td>0.32000</td>\n",
       "      <td>3200.000000</td>\n",
       "      <td>03</td>\n",
       "      <td>04</td>\n",
       "      <td>2023</td>\n",
       "    </tr>\n",
       "  </tbody>\n",
       "</table>\n",
       "</div>"
      ],
      "text/plain": [
       "         Date  index         Open         High        Low        Close  \\\n",
       "5124  19443.0   5133  3106.000000  3135.000000  1524217.0  3152.750000   \n",
       "5125  19444.0   5134  3110.149902  3127.000000  1303530.0  3149.550049   \n",
       "5126  19445.0   5135  3104.100098  3129.000000  1740616.0  3150.000000   \n",
       "5127  19447.0   5136  3152.000000  3189.949951  2382581.0  3213.000000   \n",
       "5128  19450.0   5137  3173.750000  3224.949951  1521830.0  3224.949951   \n",
       "\n",
       "       Volume    Adj Close Year Month   Day  \n",
       "5124  0.31223  3122.300049   27    03  2023  \n",
       "5125  0.31159  3115.899902   28    03  2023  \n",
       "5126  0.31389  3138.899902   29    03  2023  \n",
       "5127  0.32059  3205.899902   31    03  2023  \n",
       "5128  0.32000  3200.000000   03    04  2023  "
      ]
     },
     "execution_count": 2,
     "metadata": {},
     "output_type": "execute_result"
    }
   ],
   "source": [
    "url = \"historic_data/csv/TCS.NS.csv\"    \n",
    "col_names = ['Date','Open','High','Low','Close','Volume','Adj Close']\n",
    "stocks = pd.read_csv(url, header=0, names=col_names) \n",
    "df = pd.DataFrame(stocks).dropna(how='any', axis=0)\n",
    "date_split = df['Date'].str.split('-').str\n",
    "df['Year'], df['Month'], df['Day'] = date_split\n",
    "df[\"Volume\"] = df[\"Volume\"] / 10000\n",
    "\n",
    "df['Date'] = pd.to_datetime(df['Date'], format='%d-%m-%Y')\n",
    "df['Date'] = df['Date'].dt.strftime('%Y-%m-%d')\n",
    "\n",
    "\n",
    "#sort by date\n",
    "df = df.sort_values('Date')\n",
    "\n",
    "# fix the date \n",
    "df.reset_index(inplace=True)\n",
    "df.set_index(\"Date\", inplace=True)\n",
    "\n",
    "dates_df = df.copy()\n",
    "dates_df = dates_df.reset_index()\n",
    "\n",
    "dates_df['Date'] = pd.to_datetime(dates_df['Date'])\n",
    "\n",
    "\n",
    "# Store the original dates for plotting the predicitons\n",
    "org_dates = dates_df['Date']\n",
    "\n",
    "# convert to ints\n",
    "dates_df['Date'] = dates_df['Date'].map(mdates.date2num)\n",
    "dates_df.head()\n",
    "dates_df.tail()\n",
    "\n",
    "dates_df.tail()"
   ]
  },
  {
   "cell_type": "code",
   "execution_count": 3,
   "metadata": {},
   "outputs": [
    {
     "name": "stdout",
     "output_type": "stream",
     "text": [
      "4103    2097.949951\n",
      "4104    2089.500000\n",
      "4105    2096.000000\n",
      "4106    2070.000000\n",
      "4107    2075.000000\n",
      "           ...     \n",
      "5124    3152.750000\n",
      "5125    3149.550049\n",
      "5126    3150.000000\n",
      "5127    3213.000000\n",
      "5128    3224.949951\n",
      "Name: Close, Length: 1026, dtype: float64\n"
     ]
    }
   ],
   "source": [
    "X = dates_df.Date\n",
    "y = dates_df.Close\n",
    "\n",
    "X_train, X_test, y_train, y_test = train_test_split(X, y, test_size=0.2, shuffle=False)\n",
    "print(y_test)"
   ]
  },
  {
   "cell_type": "code",
   "execution_count": 4,
   "metadata": {},
   "outputs": [],
   "source": [
    "paramters = {\n",
    "        'C':[0.001,0.01,0.1,1,100,1000],\n",
    "        'epsilon': [\n",
    "                    0.0001, 0.0005, 0.001, 0.005, 0.01, 0.05, 0.1, 0.5, 1, 5, 10,\n",
    "                    50, 100, 150, 1000\n",
    "                ],\n",
    "        'gamma': [0.0001, 0.001, 0.005, 0.1, 1, 3, 5, 8, 40, 100, 1000]\n",
    "    }"
   ]
  },
  {
   "cell_type": "code",
   "execution_count": 5,
   "metadata": {},
   "outputs": [],
   "source": [
    "import numpy as np\n",
    "from datetime import timedelta, date\n",
    "import plotly.graph_objects as go\n",
    "from sklearn.model_selection import GridSearchCV, train_test_split\n",
    "from sklearn.svm import SVR\n",
    "\n",
    "def predict_stock_prices(X_train, y_train, n_days):\n",
    "    paramters = {\n",
    "        'C': [0.1,1, 10, 100],\n",
    "        'gamma': [1,0.1,0.01,0.001],\n",
    "        'epsilon': [0.1,0.01,0.001,0.0001]\n",
    "    }\n",
    "\n",
    "    gsc = GridSearchCV(\n",
    "        estimator=SVR(kernel='rbf'),\n",
    "        param_grid=paramters,\n",
    "        cv=10,\n",
    "        scoring='neg_mean_absolute_error',\n",
    "        error_score='raise'\n",
    "    )\n",
    "\n",
    "    X_train = np.arange(len(X_train)).reshape(-1, 1)\n",
    "    y_train = np.array(y_train).reshape(-1, 1)\n",
    "\n",
    "    grid_result = gsc.fit(X_train, y_train.ravel())\n",
    "\n",
    "    # storing and using best parameters\n",
    "    # best parameters = min error\n",
    "    best_param = grid_result.best_params_\n",
    "    svr_model = SVR(kernel='rbf', C=best_param['C'], epsilon=best_param['epsilon'], gamma=best_param['gamma'])\n",
    "    svr_model.fit(X_train, y_train.ravel())\n",
    "\n",
    "    output_days = np.arange(len(X_train), len(X_train)+n_days).reshape(-1, 1)\n",
    "\n",
    "    dates = []\n",
    "    current = date.today()\n",
    "    for i in range(n_days): # creating timeline for future dates\n",
    "        current += timedelta(days=1)\n",
    "        dates.append(current)\n",
    "\n",
    "    fig = go.Figure()\n",
    "    fig.add_trace(\n",
    "        go.Scatter(\n",
    "                x=dates, \n",
    "                y=svr_model.predict(output_days),\n",
    "                mode='lines+markers',\n",
    "                name='data'))\n",
    "    fig.update_layout(\n",
    "        title=\"Predicted Close Price of next \" + str(n_days) + \" days\",\n",
    "        xaxis_title=\"Date\",\n",
    "        yaxis_title=\"Closed Price\"\n",
    "    )\n",
    "\n",
    "    return fig\n"
   ]
  },
  {
   "cell_type": "code",
   "execution_count": 6,
   "metadata": {},
   "outputs": [
    {
     "data": {
      "application/vnd.plotly.v1+json": {
       "config": {
        "plotlyServerURL": "https://plot.ly"
       },
       "data": [
        {
         "mode": "lines+markers",
         "name": "data",
         "type": "scatter",
         "x": [
          "2023-04-29"
         ],
         "y": [
          3093.7970519888577
         ]
        }
       ],
       "layout": {
        "template": {
         "data": {
          "bar": [
           {
            "error_x": {
             "color": "#2a3f5f"
            },
            "error_y": {
             "color": "#2a3f5f"
            },
            "marker": {
             "line": {
              "color": "#E5ECF6",
              "width": 0.5
             },
             "pattern": {
              "fillmode": "overlay",
              "size": 10,
              "solidity": 0.2
             }
            },
            "type": "bar"
           }
          ],
          "barpolar": [
           {
            "marker": {
             "line": {
              "color": "#E5ECF6",
              "width": 0.5
             },
             "pattern": {
              "fillmode": "overlay",
              "size": 10,
              "solidity": 0.2
             }
            },
            "type": "barpolar"
           }
          ],
          "carpet": [
           {
            "aaxis": {
             "endlinecolor": "#2a3f5f",
             "gridcolor": "white",
             "linecolor": "white",
             "minorgridcolor": "white",
             "startlinecolor": "#2a3f5f"
            },
            "baxis": {
             "endlinecolor": "#2a3f5f",
             "gridcolor": "white",
             "linecolor": "white",
             "minorgridcolor": "white",
             "startlinecolor": "#2a3f5f"
            },
            "type": "carpet"
           }
          ],
          "choropleth": [
           {
            "colorbar": {
             "outlinewidth": 0,
             "ticks": ""
            },
            "type": "choropleth"
           }
          ],
          "contour": [
           {
            "colorbar": {
             "outlinewidth": 0,
             "ticks": ""
            },
            "colorscale": [
             [
              0,
              "#0d0887"
             ],
             [
              0.1111111111111111,
              "#46039f"
             ],
             [
              0.2222222222222222,
              "#7201a8"
             ],
             [
              0.3333333333333333,
              "#9c179e"
             ],
             [
              0.4444444444444444,
              "#bd3786"
             ],
             [
              0.5555555555555556,
              "#d8576b"
             ],
             [
              0.6666666666666666,
              "#ed7953"
             ],
             [
              0.7777777777777778,
              "#fb9f3a"
             ],
             [
              0.8888888888888888,
              "#fdca26"
             ],
             [
              1,
              "#f0f921"
             ]
            ],
            "type": "contour"
           }
          ],
          "contourcarpet": [
           {
            "colorbar": {
             "outlinewidth": 0,
             "ticks": ""
            },
            "type": "contourcarpet"
           }
          ],
          "heatmap": [
           {
            "colorbar": {
             "outlinewidth": 0,
             "ticks": ""
            },
            "colorscale": [
             [
              0,
              "#0d0887"
             ],
             [
              0.1111111111111111,
              "#46039f"
             ],
             [
              0.2222222222222222,
              "#7201a8"
             ],
             [
              0.3333333333333333,
              "#9c179e"
             ],
             [
              0.4444444444444444,
              "#bd3786"
             ],
             [
              0.5555555555555556,
              "#d8576b"
             ],
             [
              0.6666666666666666,
              "#ed7953"
             ],
             [
              0.7777777777777778,
              "#fb9f3a"
             ],
             [
              0.8888888888888888,
              "#fdca26"
             ],
             [
              1,
              "#f0f921"
             ]
            ],
            "type": "heatmap"
           }
          ],
          "heatmapgl": [
           {
            "colorbar": {
             "outlinewidth": 0,
             "ticks": ""
            },
            "colorscale": [
             [
              0,
              "#0d0887"
             ],
             [
              0.1111111111111111,
              "#46039f"
             ],
             [
              0.2222222222222222,
              "#7201a8"
             ],
             [
              0.3333333333333333,
              "#9c179e"
             ],
             [
              0.4444444444444444,
              "#bd3786"
             ],
             [
              0.5555555555555556,
              "#d8576b"
             ],
             [
              0.6666666666666666,
              "#ed7953"
             ],
             [
              0.7777777777777778,
              "#fb9f3a"
             ],
             [
              0.8888888888888888,
              "#fdca26"
             ],
             [
              1,
              "#f0f921"
             ]
            ],
            "type": "heatmapgl"
           }
          ],
          "histogram": [
           {
            "marker": {
             "pattern": {
              "fillmode": "overlay",
              "size": 10,
              "solidity": 0.2
             }
            },
            "type": "histogram"
           }
          ],
          "histogram2d": [
           {
            "colorbar": {
             "outlinewidth": 0,
             "ticks": ""
            },
            "colorscale": [
             [
              0,
              "#0d0887"
             ],
             [
              0.1111111111111111,
              "#46039f"
             ],
             [
              0.2222222222222222,
              "#7201a8"
             ],
             [
              0.3333333333333333,
              "#9c179e"
             ],
             [
              0.4444444444444444,
              "#bd3786"
             ],
             [
              0.5555555555555556,
              "#d8576b"
             ],
             [
              0.6666666666666666,
              "#ed7953"
             ],
             [
              0.7777777777777778,
              "#fb9f3a"
             ],
             [
              0.8888888888888888,
              "#fdca26"
             ],
             [
              1,
              "#f0f921"
             ]
            ],
            "type": "histogram2d"
           }
          ],
          "histogram2dcontour": [
           {
            "colorbar": {
             "outlinewidth": 0,
             "ticks": ""
            },
            "colorscale": [
             [
              0,
              "#0d0887"
             ],
             [
              0.1111111111111111,
              "#46039f"
             ],
             [
              0.2222222222222222,
              "#7201a8"
             ],
             [
              0.3333333333333333,
              "#9c179e"
             ],
             [
              0.4444444444444444,
              "#bd3786"
             ],
             [
              0.5555555555555556,
              "#d8576b"
             ],
             [
              0.6666666666666666,
              "#ed7953"
             ],
             [
              0.7777777777777778,
              "#fb9f3a"
             ],
             [
              0.8888888888888888,
              "#fdca26"
             ],
             [
              1,
              "#f0f921"
             ]
            ],
            "type": "histogram2dcontour"
           }
          ],
          "mesh3d": [
           {
            "colorbar": {
             "outlinewidth": 0,
             "ticks": ""
            },
            "type": "mesh3d"
           }
          ],
          "parcoords": [
           {
            "line": {
             "colorbar": {
              "outlinewidth": 0,
              "ticks": ""
             }
            },
            "type": "parcoords"
           }
          ],
          "pie": [
           {
            "automargin": true,
            "type": "pie"
           }
          ],
          "scatter": [
           {
            "marker": {
             "colorbar": {
              "outlinewidth": 0,
              "ticks": ""
             }
            },
            "type": "scatter"
           }
          ],
          "scatter3d": [
           {
            "line": {
             "colorbar": {
              "outlinewidth": 0,
              "ticks": ""
             }
            },
            "marker": {
             "colorbar": {
              "outlinewidth": 0,
              "ticks": ""
             }
            },
            "type": "scatter3d"
           }
          ],
          "scattercarpet": [
           {
            "marker": {
             "colorbar": {
              "outlinewidth": 0,
              "ticks": ""
             }
            },
            "type": "scattercarpet"
           }
          ],
          "scattergeo": [
           {
            "marker": {
             "colorbar": {
              "outlinewidth": 0,
              "ticks": ""
             }
            },
            "type": "scattergeo"
           }
          ],
          "scattergl": [
           {
            "marker": {
             "colorbar": {
              "outlinewidth": 0,
              "ticks": ""
             }
            },
            "type": "scattergl"
           }
          ],
          "scattermapbox": [
           {
            "marker": {
             "colorbar": {
              "outlinewidth": 0,
              "ticks": ""
             }
            },
            "type": "scattermapbox"
           }
          ],
          "scatterpolar": [
           {
            "marker": {
             "colorbar": {
              "outlinewidth": 0,
              "ticks": ""
             }
            },
            "type": "scatterpolar"
           }
          ],
          "scatterpolargl": [
           {
            "marker": {
             "colorbar": {
              "outlinewidth": 0,
              "ticks": ""
             }
            },
            "type": "scatterpolargl"
           }
          ],
          "scatterternary": [
           {
            "marker": {
             "colorbar": {
              "outlinewidth": 0,
              "ticks": ""
             }
            },
            "type": "scatterternary"
           }
          ],
          "surface": [
           {
            "colorbar": {
             "outlinewidth": 0,
             "ticks": ""
            },
            "colorscale": [
             [
              0,
              "#0d0887"
             ],
             [
              0.1111111111111111,
              "#46039f"
             ],
             [
              0.2222222222222222,
              "#7201a8"
             ],
             [
              0.3333333333333333,
              "#9c179e"
             ],
             [
              0.4444444444444444,
              "#bd3786"
             ],
             [
              0.5555555555555556,
              "#d8576b"
             ],
             [
              0.6666666666666666,
              "#ed7953"
             ],
             [
              0.7777777777777778,
              "#fb9f3a"
             ],
             [
              0.8888888888888888,
              "#fdca26"
             ],
             [
              1,
              "#f0f921"
             ]
            ],
            "type": "surface"
           }
          ],
          "table": [
           {
            "cells": {
             "fill": {
              "color": "#EBF0F8"
             },
             "line": {
              "color": "white"
             }
            },
            "header": {
             "fill": {
              "color": "#C8D4E3"
             },
             "line": {
              "color": "white"
             }
            },
            "type": "table"
           }
          ]
         },
         "layout": {
          "annotationdefaults": {
           "arrowcolor": "#2a3f5f",
           "arrowhead": 0,
           "arrowwidth": 1
          },
          "autotypenumbers": "strict",
          "coloraxis": {
           "colorbar": {
            "outlinewidth": 0,
            "ticks": ""
           }
          },
          "colorscale": {
           "diverging": [
            [
             0,
             "#8e0152"
            ],
            [
             0.1,
             "#c51b7d"
            ],
            [
             0.2,
             "#de77ae"
            ],
            [
             0.3,
             "#f1b6da"
            ],
            [
             0.4,
             "#fde0ef"
            ],
            [
             0.5,
             "#f7f7f7"
            ],
            [
             0.6,
             "#e6f5d0"
            ],
            [
             0.7,
             "#b8e186"
            ],
            [
             0.8,
             "#7fbc41"
            ],
            [
             0.9,
             "#4d9221"
            ],
            [
             1,
             "#276419"
            ]
           ],
           "sequential": [
            [
             0,
             "#0d0887"
            ],
            [
             0.1111111111111111,
             "#46039f"
            ],
            [
             0.2222222222222222,
             "#7201a8"
            ],
            [
             0.3333333333333333,
             "#9c179e"
            ],
            [
             0.4444444444444444,
             "#bd3786"
            ],
            [
             0.5555555555555556,
             "#d8576b"
            ],
            [
             0.6666666666666666,
             "#ed7953"
            ],
            [
             0.7777777777777778,
             "#fb9f3a"
            ],
            [
             0.8888888888888888,
             "#fdca26"
            ],
            [
             1,
             "#f0f921"
            ]
           ],
           "sequentialminus": [
            [
             0,
             "#0d0887"
            ],
            [
             0.1111111111111111,
             "#46039f"
            ],
            [
             0.2222222222222222,
             "#7201a8"
            ],
            [
             0.3333333333333333,
             "#9c179e"
            ],
            [
             0.4444444444444444,
             "#bd3786"
            ],
            [
             0.5555555555555556,
             "#d8576b"
            ],
            [
             0.6666666666666666,
             "#ed7953"
            ],
            [
             0.7777777777777778,
             "#fb9f3a"
            ],
            [
             0.8888888888888888,
             "#fdca26"
            ],
            [
             1,
             "#f0f921"
            ]
           ]
          },
          "colorway": [
           "#636efa",
           "#EF553B",
           "#00cc96",
           "#ab63fa",
           "#FFA15A",
           "#19d3f3",
           "#FF6692",
           "#B6E880",
           "#FF97FF",
           "#FECB52"
          ],
          "font": {
           "color": "#2a3f5f"
          },
          "geo": {
           "bgcolor": "white",
           "lakecolor": "white",
           "landcolor": "#E5ECF6",
           "showlakes": true,
           "showland": true,
           "subunitcolor": "white"
          },
          "hoverlabel": {
           "align": "left"
          },
          "hovermode": "closest",
          "mapbox": {
           "style": "light"
          },
          "paper_bgcolor": "white",
          "plot_bgcolor": "#E5ECF6",
          "polar": {
           "angularaxis": {
            "gridcolor": "white",
            "linecolor": "white",
            "ticks": ""
           },
           "bgcolor": "#E5ECF6",
           "radialaxis": {
            "gridcolor": "white",
            "linecolor": "white",
            "ticks": ""
           }
          },
          "scene": {
           "xaxis": {
            "backgroundcolor": "#E5ECF6",
            "gridcolor": "white",
            "gridwidth": 2,
            "linecolor": "white",
            "showbackground": true,
            "ticks": "",
            "zerolinecolor": "white"
           },
           "yaxis": {
            "backgroundcolor": "#E5ECF6",
            "gridcolor": "white",
            "gridwidth": 2,
            "linecolor": "white",
            "showbackground": true,
            "ticks": "",
            "zerolinecolor": "white"
           },
           "zaxis": {
            "backgroundcolor": "#E5ECF6",
            "gridcolor": "white",
            "gridwidth": 2,
            "linecolor": "white",
            "showbackground": true,
            "ticks": "",
            "zerolinecolor": "white"
           }
          },
          "shapedefaults": {
           "line": {
            "color": "#2a3f5f"
           }
          },
          "ternary": {
           "aaxis": {
            "gridcolor": "white",
            "linecolor": "white",
            "ticks": ""
           },
           "baxis": {
            "gridcolor": "white",
            "linecolor": "white",
            "ticks": ""
           },
           "bgcolor": "#E5ECF6",
           "caxis": {
            "gridcolor": "white",
            "linecolor": "white",
            "ticks": ""
           }
          },
          "title": {
           "x": 0.05
          },
          "xaxis": {
           "automargin": true,
           "gridcolor": "white",
           "linecolor": "white",
           "ticks": "",
           "title": {
            "standoff": 15
           },
           "zerolinecolor": "white",
           "zerolinewidth": 2
          },
          "yaxis": {
           "automargin": true,
           "gridcolor": "white",
           "linecolor": "white",
           "ticks": "",
           "title": {
            "standoff": 15
           },
           "zerolinecolor": "white",
           "zerolinewidth": 2
          }
         }
        },
        "title": {
         "text": "Predicted Close Price of next 1 days"
        },
        "xaxis": {
         "title": {
          "text": "Date"
         }
        },
        "yaxis": {
         "title": {
          "text": "Closed Price"
         }
        }
       }
      }
     },
     "metadata": {},
     "output_type": "display_data"
    }
   ],
   "source": [
    "predict_stock_prices(X_test, y_test, 1)"
   ]
  },
  {
   "cell_type": "code",
   "execution_count": 9,
   "metadata": {},
   "outputs": [],
   "source": [
    "import numpy as np\n",
    "from datetime import timedelta, date\n",
    "from sklearn.model_selection import GridSearchCV, train_test_split\n",
    "from sklearn.svm import SVR\n",
    "\n",
    "def predict_stock_prices(X_train, y_train):\n",
    "    paramters = {\n",
    "        'C': [0.1,1, 10, 100],\n",
    "        'gamma': [1,0.1,0.01,0.001],\n",
    "        'epsilon': [0.1,0.01,0.001,0.0001]\n",
    "    }\n",
    "\n",
    "    gsc = GridSearchCV(\n",
    "        estimator=SVR(kernel='rbf'),\n",
    "        param_grid=paramters,\n",
    "        cv=10,\n",
    "        scoring='neg_mean_absolute_error',\n",
    "        error_score='raise'\n",
    "    )\n",
    "\n",
    "    X_train = np.arange(len(X_train)).reshape(-1, 1)\n",
    "    y_train = np.array(y_train).reshape(-1, 1)\n",
    "\n",
    "    grid_result = gsc.fit(X_train, y_train.ravel())\n",
    "\n",
    "    # storing and using best parameters\n",
    "    # best parameters = min error\n",
    "    best_param = grid_result.best_params_\n",
    "    svr_model = SVR(kernel='rbf', C=best_param['C'], epsilon=best_param['epsilon'], gamma=best_param['gamma'])\n",
    "    svr_model.fit(X_train, y_train.ravel())\n",
    "\n",
    "    output_days = np.arange(len(X_train), len(X_train)+n_days).reshape(-1, 1)\n",
    "\n",
    "    predicted_prices = svr_model.predict(output_days)\n",
    "\n",
    "    return predicted_prices\n"
   ]
  },
  {
   "cell_type": "code",
   "execution_count": 10,
   "metadata": {},
   "outputs": [
    {
     "ename": "NameError",
     "evalue": "name 'n_days' is not defined",
     "output_type": "error",
     "traceback": [
      "\u001b[1;31m---------------------------------------------------------------------------\u001b[0m",
      "\u001b[1;31mNameError\u001b[0m                                 Traceback (most recent call last)",
      "\u001b[1;32mc:\\Users\\prath\\Desktop\\Stock_Predictor\\f-svr.ipynb Cell 8\u001b[0m in \u001b[0;36m<cell line: 1>\u001b[1;34m()\u001b[0m\n\u001b[1;32m----> <a href='vscode-notebook-cell:/c%3A/Users/prath/Desktop/Stock_Predictor/f-svr.ipynb#X10sZmlsZQ%3D%3D?line=0'>1</a>\u001b[0m predict_stock_prices(X_train, y_train)\n",
      "\u001b[1;32mc:\\Users\\prath\\Desktop\\Stock_Predictor\\f-svr.ipynb Cell 8\u001b[0m in \u001b[0;36mpredict_stock_prices\u001b[1;34m(X_train, y_train)\u001b[0m\n\u001b[0;32m     <a href='vscode-notebook-cell:/c%3A/Users/prath/Desktop/Stock_Predictor/f-svr.ipynb#X10sZmlsZQ%3D%3D?line=28'>29</a>\u001b[0m svr_model \u001b[39m=\u001b[39m SVR(kernel\u001b[39m=\u001b[39m\u001b[39m'\u001b[39m\u001b[39mrbf\u001b[39m\u001b[39m'\u001b[39m, C\u001b[39m=\u001b[39mbest_param[\u001b[39m'\u001b[39m\u001b[39mC\u001b[39m\u001b[39m'\u001b[39m], epsilon\u001b[39m=\u001b[39mbest_param[\u001b[39m'\u001b[39m\u001b[39mepsilon\u001b[39m\u001b[39m'\u001b[39m], gamma\u001b[39m=\u001b[39mbest_param[\u001b[39m'\u001b[39m\u001b[39mgamma\u001b[39m\u001b[39m'\u001b[39m])\n\u001b[0;32m     <a href='vscode-notebook-cell:/c%3A/Users/prath/Desktop/Stock_Predictor/f-svr.ipynb#X10sZmlsZQ%3D%3D?line=29'>30</a>\u001b[0m svr_model\u001b[39m.\u001b[39mfit(X_train, y_train\u001b[39m.\u001b[39mravel())\n\u001b[1;32m---> <a href='vscode-notebook-cell:/c%3A/Users/prath/Desktop/Stock_Predictor/f-svr.ipynb#X10sZmlsZQ%3D%3D?line=31'>32</a>\u001b[0m output_days \u001b[39m=\u001b[39m np\u001b[39m.\u001b[39marange(\u001b[39mlen\u001b[39m(X_train), \u001b[39mlen\u001b[39m(X_train)\u001b[39m+\u001b[39mn_days)\u001b[39m.\u001b[39mreshape(\u001b[39m-\u001b[39m\u001b[39m1\u001b[39m, \u001b[39m1\u001b[39m)\n\u001b[0;32m     <a href='vscode-notebook-cell:/c%3A/Users/prath/Desktop/Stock_Predictor/f-svr.ipynb#X10sZmlsZQ%3D%3D?line=33'>34</a>\u001b[0m predicted_prices \u001b[39m=\u001b[39m svr_model\u001b[39m.\u001b[39mpredict(output_days)\n\u001b[0;32m     <a href='vscode-notebook-cell:/c%3A/Users/prath/Desktop/Stock_Predictor/f-svr.ipynb#X10sZmlsZQ%3D%3D?line=35'>36</a>\u001b[0m \u001b[39mreturn\u001b[39;00m predicted_prices\n",
      "\u001b[1;31mNameError\u001b[0m: name 'n_days' is not defined"
     ]
    }
   ],
   "source": [
    "predict_stock_prices(X_train, y_train)"
   ]
  },
  {
   "cell_type": "code",
   "execution_count": null,
   "metadata": {},
   "outputs": [],
   "source": []
  }
 ],
 "metadata": {
  "kernelspec": {
   "display_name": "base",
   "language": "python",
   "name": "python3"
  },
  "language_info": {
   "codemirror_mode": {
    "name": "ipython",
    "version": 3
   },
   "file_extension": ".py",
   "mimetype": "text/x-python",
   "name": "python",
   "nbconvert_exporter": "python",
   "pygments_lexer": "ipython3",
   "version": "3.9.12"
  },
  "orig_nbformat": 4,
  "vscode": {
   "interpreter": {
    "hash": "e8070615c614b468fd1de6336963f9d2847f75d3a444f9b05616daa657a2c1ed"
   }
  }
 },
 "nbformat": 4,
 "nbformat_minor": 2
}
