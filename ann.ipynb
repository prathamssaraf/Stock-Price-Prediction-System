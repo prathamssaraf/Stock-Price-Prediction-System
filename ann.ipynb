{
 "cells": [
  {
   "cell_type": "code",
   "execution_count": 1,
   "metadata": {
    "collapsed": false,
    "deletable": true,
    "editable": true,
    "scrolled": true
   },
   "outputs": [
    {
     "name": "stderr",
     "output_type": "stream",
     "text": [
      "C:\\Users\\prath\\AppData\\Local\\Temp\\ipykernel_28532\\1858431299.py:5: FutureWarning: The pandas.datetime class is deprecated and will be removed from pandas in a future version. Import from datetime module instead.\n",
      "  from pandas import datetime\n",
      "c:\\Users\\prath\\anaconda3\\lib\\site-packages\\scipy\\__init__.py:146: UserWarning: A NumPy version >=1.16.5 and <1.23.0 is required for this version of SciPy (detected version 1.24.2\n",
      "  warnings.warn(f\"A NumPy version >={np_minversion} and <{np_maxversion}\"\n"
     ]
    }
   ],
   "source": [
    "import numpy as np\n",
    "import pandas as pd\n",
    "import matplotlib.pyplot as plt\n",
    "import pandas as pd\n",
    "from pandas import datetime\n",
    "import math\n",
    "from math import sqrt\n",
    "from keras.models import Sequential\n",
    "from keras.layers.core import Dense, Dropout, Activation"
   ]
  },
  {
   "cell_type": "markdown",
   "metadata": {
    "deletable": true,
    "editable": true
   },
   "source": [
    "* Get the stock data from Yahoo finance as a CSV for any company. \n",
    "* Drop all other columns (Volume, Year, Month and Day) and retain Open, High and Close - since I'm just predicting the close value for a day"
   ]
  },
  {
   "cell_type": "code",
   "execution_count": 2,
   "metadata": {
    "collapsed": true,
    "deletable": true,
    "editable": true
   },
   "outputs": [],
   "source": [
    "def get_stock_data(normalized=0):\n",
    "    url = \"historic_data/csv/TCS.NS.csv\"\n",
    "    col_names = ['Date','Open','High','Low','Close','Volume','Adj Close']\n",
    "    stocks = pd.read_csv(url, header=0, names=col_names) \n",
    "    df = pd.DataFrame(stocks)\n",
    "    date_split = df['Date'].str.split('-').str\n",
    "    df['Year'], df['Month'], df['Day'] = date_split\n",
    "    df[\"Volume\"] = df[\"Volume\"] / 10000\n",
    "    return df"
   ]
  },
  {
   "cell_type": "code",
   "execution_count": 3,
   "metadata": {
    "collapsed": false,
    "deletable": true,
    "editable": true
   },
   "outputs": [
    {
     "name": "stderr",
     "output_type": "stream",
     "text": [
      "C:\\Users\\prath\\AppData\\Local\\Temp\\ipykernel_28532\\2441751676.py:7: FutureWarning: Columnar iteration over characters will be deprecated in future releases.\n",
      "  df['Year'], df['Month'], df['Day'] = date_split\n"
     ]
    },
    {
     "data": {
      "text/html": [
       "<div>\n",
       "<style scoped>\n",
       "    .dataframe tbody tr th:only-of-type {\n",
       "        vertical-align: middle;\n",
       "    }\n",
       "\n",
       "    .dataframe tbody tr th {\n",
       "        vertical-align: top;\n",
       "    }\n",
       "\n",
       "    .dataframe thead th {\n",
       "        text-align: right;\n",
       "    }\n",
       "</style>\n",
       "<table border=\"1\" class=\"dataframe\">\n",
       "  <thead>\n",
       "    <tr style=\"text-align: right;\">\n",
       "      <th></th>\n",
       "      <th>index</th>\n",
       "      <th>Open</th>\n",
       "      <th>High</th>\n",
       "      <th>Low</th>\n",
       "      <th>Close</th>\n",
       "      <th>Volume</th>\n",
       "      <th>Adj Close</th>\n",
       "      <th>Year</th>\n",
       "      <th>Month</th>\n",
       "      <th>Day</th>\n",
       "    </tr>\n",
       "    <tr>\n",
       "      <th>Date</th>\n",
       "      <th></th>\n",
       "      <th></th>\n",
       "      <th></th>\n",
       "      <th></th>\n",
       "      <th></th>\n",
       "      <th></th>\n",
       "      <th></th>\n",
       "      <th></th>\n",
       "      <th></th>\n",
       "      <th></th>\n",
       "    </tr>\n",
       "  </thead>\n",
       "  <tbody>\n",
       "    <tr>\n",
       "      <th>2023-03-27</th>\n",
       "      <td>5133</td>\n",
       "      <td>3106.000000</td>\n",
       "      <td>3135.000000</td>\n",
       "      <td>1524217.0</td>\n",
       "      <td>3152.750000</td>\n",
       "      <td>0.31223</td>\n",
       "      <td>3122.300049</td>\n",
       "      <td>27</td>\n",
       "      <td>03</td>\n",
       "      <td>2023</td>\n",
       "    </tr>\n",
       "    <tr>\n",
       "      <th>2023-03-28</th>\n",
       "      <td>5134</td>\n",
       "      <td>3110.149902</td>\n",
       "      <td>3127.000000</td>\n",
       "      <td>1303530.0</td>\n",
       "      <td>3149.550049</td>\n",
       "      <td>0.31159</td>\n",
       "      <td>3115.899902</td>\n",
       "      <td>28</td>\n",
       "      <td>03</td>\n",
       "      <td>2023</td>\n",
       "    </tr>\n",
       "    <tr>\n",
       "      <th>2023-03-29</th>\n",
       "      <td>5135</td>\n",
       "      <td>3104.100098</td>\n",
       "      <td>3129.000000</td>\n",
       "      <td>1740616.0</td>\n",
       "      <td>3150.000000</td>\n",
       "      <td>0.31389</td>\n",
       "      <td>3138.899902</td>\n",
       "      <td>29</td>\n",
       "      <td>03</td>\n",
       "      <td>2023</td>\n",
       "    </tr>\n",
       "    <tr>\n",
       "      <th>2023-03-31</th>\n",
       "      <td>5136</td>\n",
       "      <td>3152.000000</td>\n",
       "      <td>3189.949951</td>\n",
       "      <td>2382581.0</td>\n",
       "      <td>3213.000000</td>\n",
       "      <td>0.32059</td>\n",
       "      <td>3205.899902</td>\n",
       "      <td>31</td>\n",
       "      <td>03</td>\n",
       "      <td>2023</td>\n",
       "    </tr>\n",
       "    <tr>\n",
       "      <th>2023-04-03</th>\n",
       "      <td>5137</td>\n",
       "      <td>3173.750000</td>\n",
       "      <td>3224.949951</td>\n",
       "      <td>1521830.0</td>\n",
       "      <td>3224.949951</td>\n",
       "      <td>0.32000</td>\n",
       "      <td>3200.000000</td>\n",
       "      <td>03</td>\n",
       "      <td>04</td>\n",
       "      <td>2023</td>\n",
       "    </tr>\n",
       "  </tbody>\n",
       "</table>\n",
       "</div>"
      ],
      "text/plain": [
       "            index         Open         High        Low        Close   Volume  \\\n",
       "Date                                                                           \n",
       "2023-03-27   5133  3106.000000  3135.000000  1524217.0  3152.750000  0.31223   \n",
       "2023-03-28   5134  3110.149902  3127.000000  1303530.0  3149.550049  0.31159   \n",
       "2023-03-29   5135  3104.100098  3129.000000  1740616.0  3150.000000  0.31389   \n",
       "2023-03-31   5136  3152.000000  3189.949951  2382581.0  3213.000000  0.32059   \n",
       "2023-04-03   5137  3173.750000  3224.949951  1521830.0  3224.949951  0.32000   \n",
       "\n",
       "              Adj Close Year Month   Day  \n",
       "Date                                      \n",
       "2023-03-27  3122.300049   27    03  2023  \n",
       "2023-03-28  3115.899902   28    03  2023  \n",
       "2023-03-29  3138.899902   29    03  2023  \n",
       "2023-03-31  3205.899902   31    03  2023  \n",
       "2023-04-03  3200.000000   03    04  2023  "
      ]
     },
     "execution_count": 3,
     "metadata": {},
     "output_type": "execute_result"
    }
   ],
   "source": [
    "df = get_stock_data(0)\n",
    "df['Date'] = pd.to_datetime(df['Date'], format='%d-%m-%Y')\n",
    "df['Date'] = df['Date'].dt.strftime('%Y-%m-%d')\n",
    "\n",
    "\n",
    "#sort by date\n",
    "df = df.sort_values('Date')\n",
    "\n",
    "# fix the date \n",
    "df.reset_index(inplace=True)\n",
    "df.set_index(\"Date\", inplace=True)\n",
    "df.tail()"
   ]
  },
  {
   "cell_type": "code",
   "execution_count": 4,
   "metadata": {
    "collapsed": false,
    "deletable": true,
    "editable": true
   },
   "outputs": [
    {
     "data": {
      "text/html": [
       "<div>\n",
       "<style scoped>\n",
       "    .dataframe tbody tr th:only-of-type {\n",
       "        vertical-align: middle;\n",
       "    }\n",
       "\n",
       "    .dataframe tbody tr th {\n",
       "        vertical-align: top;\n",
       "    }\n",
       "\n",
       "    .dataframe thead th {\n",
       "        text-align: right;\n",
       "    }\n",
       "</style>\n",
       "<table border=\"1\" class=\"dataframe\">\n",
       "  <thead>\n",
       "    <tr style=\"text-align: right;\">\n",
       "      <th></th>\n",
       "      <th>Open</th>\n",
       "      <th>High</th>\n",
       "      <th>Close</th>\n",
       "      <th>Volume</th>\n",
       "    </tr>\n",
       "    <tr>\n",
       "      <th>Date</th>\n",
       "      <th></th>\n",
       "      <th></th>\n",
       "      <th></th>\n",
       "      <th></th>\n",
       "    </tr>\n",
       "  </thead>\n",
       "  <tbody>\n",
       "    <tr>\n",
       "      <th>2002-08-12</th>\n",
       "      <td>38.724998</td>\n",
       "      <td>38.724998</td>\n",
       "      <td>40.000000</td>\n",
       "      <td>0.003970</td>\n",
       "    </tr>\n",
       "    <tr>\n",
       "      <th>2002-08-13</th>\n",
       "      <td>38.875000</td>\n",
       "      <td>39.750000</td>\n",
       "      <td>40.387501</td>\n",
       "      <td>0.003916</td>\n",
       "    </tr>\n",
       "    <tr>\n",
       "      <th>2002-08-14</th>\n",
       "      <td>35.724998</td>\n",
       "      <td>39.250000</td>\n",
       "      <td>39.250000</td>\n",
       "      <td>0.003646</td>\n",
       "    </tr>\n",
       "    <tr>\n",
       "      <th>2002-08-15</th>\n",
       "      <td>36.462502</td>\n",
       "      <td>36.462502</td>\n",
       "      <td>36.462502</td>\n",
       "      <td>0.003646</td>\n",
       "    </tr>\n",
       "    <tr>\n",
       "      <th>2002-08-16</th>\n",
       "      <td>35.750000</td>\n",
       "      <td>36.275002</td>\n",
       "      <td>38.000000</td>\n",
       "      <td>0.003638</td>\n",
       "    </tr>\n",
       "  </tbody>\n",
       "</table>\n",
       "</div>"
      ],
      "text/plain": [
       "                 Open       High      Close    Volume\n",
       "Date                                                 \n",
       "2002-08-12  38.724998  38.724998  40.000000  0.003970\n",
       "2002-08-13  38.875000  39.750000  40.387501  0.003916\n",
       "2002-08-14  35.724998  39.250000  39.250000  0.003646\n",
       "2002-08-15  36.462502  36.462502  36.462502  0.003646\n",
       "2002-08-16  35.750000  36.275002  38.000000  0.003638"
      ]
     },
     "execution_count": 4,
     "metadata": {},
     "output_type": "execute_result"
    }
   ],
   "source": [
    "df.drop(df.columns[[0,3,6, 7,8,9]], axis=1, inplace=True)\n",
    "df.head()"
   ]
  },
  {
   "cell_type": "markdown",
   "metadata": {
    "deletable": true,
    "editable": true
   },
   "source": [
    "<h2>Normalizing and removing the null data points</h2>"
   ]
  },
  {
   "cell_type": "code",
   "execution_count": 5,
   "metadata": {
    "collapsed": false,
    "deletable": true,
    "editable": true
   },
   "outputs": [
    {
     "name": "stdout",
     "output_type": "stream",
     "text": [
      "                 Open       High      Close     Volume\n",
      "Date                                                  \n",
      "2002-08-12   0.387250   0.387250   0.400000   0.397000\n",
      "2002-08-13   0.388750   0.397500   0.403875   0.391625\n",
      "2002-08-14   0.357250   0.392500   0.392500   0.364625\n",
      "2002-08-15   0.364625   0.364625   0.364625   0.364625\n",
      "2002-08-16   0.357500   0.362750   0.380000   0.363750\n",
      "...               ...        ...        ...        ...\n",
      "2023-03-27  31.060000  31.350000  31.527500  31.223000\n",
      "2023-03-28  31.101499  31.270000  31.495500  31.158999\n",
      "2023-03-29  31.041001  31.290000  31.500000  31.388999\n",
      "2023-03-31  31.520000  31.899500  32.130000  32.058999\n",
      "2023-04-03  31.737500  32.249500  32.249500  32.000000\n",
      "\n",
      "[5138 rows x 4 columns]\n"
     ]
    }
   ],
   "source": [
    "df['Open'] = df['Open']/100\n",
    "df['High'] = df['High']/100\n",
    "df['Volume'] = df['Volume']*100\n",
    "df['Close'] = df['Close']/100\n",
    "print(df)\n",
    "nan_value_index = []\n",
    "High = df.High.isnull()\n",
    "for i in range(0, len(High)):\n",
    "    if High[i] == 1:\n",
    "        nan_value_index.append(i)\n",
    "        df['High'][i] = 0\n",
    "Open = df.Open.isnull()\n",
    "for i in range(0, len(Open)):\n",
    "    if Open[i] == 1:\n",
    "        nan_value_index.append(i)\n",
    "        df['Open'][i] = 0\n",
    "Volume = df.Volume.isnull()\n",
    "for i in range(0, len(Volume)):\n",
    "    if Volume[i] == 1:\n",
    "        nan_value_index.append(i)\n",
    "        df['Volume'][i] = 0\n",
    "Close = df.Close.isnull()\n",
    "for i in range(0, len(Close)):\n",
    "    if Close[i] == 1:\n",
    "        nan_value_index.append(i)\n",
    "        df['Close'][i] = 0"
   ]
  },
  {
   "cell_type": "code",
   "execution_count": 6,
   "metadata": {},
   "outputs": [],
   "source": [
    "X = df[['High','Open', 'Volume']]\n",
    "Y = df[['Close']]\n",
    "factor = 0.80\n",
    "length = X.shape[0]\n",
    "total_for_train = int(length*factor)\n",
    "X_train = X[:total_for_train]\n",
    "Y_train = Y[:total_for_train]\n",
    "X_test = X[total_for_train:]\n",
    "Y_test = Y[total_for_train:]"
   ]
  },
  {
   "cell_type": "code",
   "execution_count": 7,
   "metadata": {
    "collapsed": false,
    "deletable": true,
    "editable": true
   },
   "outputs": [
    {
     "name": "stdout",
     "output_type": "stream",
     "text": [
      "X_train (4110, 3)\n",
      "y_train (4110, 1)\n",
      "X_test (1028, 3)\n",
      "y_test (1028, 1)\n"
     ]
    }
   ],
   "source": [
    "print(\"X_train\", X_train.shape)\n",
    "print(\"y_train\", Y_train.shape)\n",
    "print(\"X_test\", X_test.shape)\n",
    "print(\"y_test\", Y_test.shape)"
   ]
  },
  {
   "cell_type": "markdown",
   "metadata": {},
   "source": [
    "<h2>Compiling and training the neural network model</h2>"
   ]
  },
  {
   "cell_type": "code",
   "execution_count": 8,
   "metadata": {
    "collapsed": true,
    "deletable": true,
    "editable": true
   },
   "outputs": [
    {
     "name": "stdout",
     "output_type": "stream",
     "text": [
      "Epoch 1/50\n",
      "31/31 [==============================] - 2s 17ms/step - loss: 53.9135 - val_loss: 354.0846\n",
      "Epoch 2/50\n",
      "31/31 [==============================] - 0s 5ms/step - loss: 47.0885 - val_loss: 265.5155\n",
      "Epoch 3/50\n",
      "31/31 [==============================] - 0s 6ms/step - loss: 25.7119 - val_loss: 77.7215\n",
      "Epoch 4/50\n",
      "31/31 [==============================] - 0s 5ms/step - loss: 3.2242 - val_loss: 0.0222\n",
      "Epoch 5/50\n",
      "31/31 [==============================] - 0s 8ms/step - loss: 0.1653 - val_loss: 0.2459\n",
      "Epoch 6/50\n",
      "31/31 [==============================] - 0s 5ms/step - loss: 0.0942 - val_loss: 0.3121\n",
      "Epoch 7/50\n",
      "31/31 [==============================] - 0s 6ms/step - loss: 0.0865 - val_loss: 0.2555\n",
      "Epoch 8/50\n",
      "31/31 [==============================] - 0s 6ms/step - loss: 0.0800 - val_loss: 0.2399\n",
      "Epoch 9/50\n",
      "31/31 [==============================] - 0s 6ms/step - loss: 0.0737 - val_loss: 0.2168\n",
      "Epoch 10/50\n",
      "31/31 [==============================] - 0s 5ms/step - loss: 0.0676 - val_loss: 0.2053\n",
      "Epoch 11/50\n",
      "31/31 [==============================] - 0s 5ms/step - loss: 0.0617 - val_loss: 0.1780\n",
      "Epoch 12/50\n",
      "31/31 [==============================] - 0s 5ms/step - loss: 0.0560 - val_loss: 0.1667\n",
      "Epoch 13/50\n",
      "31/31 [==============================] - 0s 6ms/step - loss: 0.0506 - val_loss: 0.1573\n",
      "Epoch 14/50\n",
      "31/31 [==============================] - 0s 5ms/step - loss: 0.0455 - val_loss: 0.1391\n",
      "Epoch 15/50\n",
      "31/31 [==============================] - 0s 6ms/step - loss: 0.0408 - val_loss: 0.1256\n",
      "Epoch 16/50\n",
      "31/31 [==============================] - 0s 6ms/step - loss: 0.0364 - val_loss: 0.1135\n",
      "Epoch 17/50\n",
      "31/31 [==============================] - 0s 6ms/step - loss: 0.0324 - val_loss: 0.0918\n",
      "Epoch 18/50\n",
      "31/31 [==============================] - 0s 6ms/step - loss: 0.0287 - val_loss: 0.0831\n",
      "Epoch 19/50\n",
      "31/31 [==============================] - 0s 6ms/step - loss: 0.0253 - val_loss: 0.0851\n",
      "Epoch 20/50\n",
      "31/31 [==============================] - 0s 7ms/step - loss: 0.0223 - val_loss: 0.0728\n",
      "Epoch 21/50\n",
      "31/31 [==============================] - 0s 5ms/step - loss: 0.0196 - val_loss: 0.0607\n",
      "Epoch 22/50\n",
      "31/31 [==============================] - 0s 6ms/step - loss: 0.0172 - val_loss: 0.0576\n",
      "Epoch 23/50\n",
      "31/31 [==============================] - 0s 5ms/step - loss: 0.0151 - val_loss: 0.0506\n",
      "Epoch 24/50\n",
      "31/31 [==============================] - 0s 5ms/step - loss: 0.0132 - val_loss: 0.0468\n",
      "Epoch 25/50\n",
      "31/31 [==============================] - 0s 5ms/step - loss: 0.0116 - val_loss: 0.0407\n",
      "Epoch 26/50\n",
      "31/31 [==============================] - 0s 6ms/step - loss: 0.0102 - val_loss: 0.0390\n",
      "Epoch 27/50\n",
      "31/31 [==============================] - 0s 5ms/step - loss: 0.0090 - val_loss: 0.0314\n",
      "Epoch 28/50\n",
      "31/31 [==============================] - 0s 6ms/step - loss: 0.0079 - val_loss: 0.0359\n",
      "Epoch 29/50\n",
      "31/31 [==============================] - 0s 5ms/step - loss: 0.0070 - val_loss: 0.0315\n",
      "Epoch 30/50\n",
      "31/31 [==============================] - 0s 6ms/step - loss: 0.0063 - val_loss: 0.0259\n",
      "Epoch 31/50\n",
      "31/31 [==============================] - 0s 5ms/step - loss: 0.0057 - val_loss: 0.0267\n",
      "Epoch 32/50\n",
      "31/31 [==============================] - 0s 5ms/step - loss: 0.0052 - val_loss: 0.0257\n",
      "Epoch 33/50\n",
      "31/31 [==============================] - 0s 5ms/step - loss: 0.0047 - val_loss: 0.0247\n",
      "Epoch 34/50\n",
      "31/31 [==============================] - 0s 5ms/step - loss: 0.0044 - val_loss: 0.0219\n",
      "Epoch 35/50\n",
      "31/31 [==============================] - 0s 5ms/step - loss: 0.0041 - val_loss: 0.0230\n",
      "Epoch 36/50\n",
      "31/31 [==============================] - 0s 5ms/step - loss: 0.0039 - val_loss: 0.0224\n",
      "Epoch 37/50\n",
      "31/31 [==============================] - 0s 7ms/step - loss: 0.0037 - val_loss: 0.0214\n",
      "Epoch 38/50\n",
      "31/31 [==============================] - 0s 6ms/step - loss: 0.0035 - val_loss: 0.0203\n",
      "Epoch 39/50\n",
      "31/31 [==============================] - 0s 6ms/step - loss: 0.0034 - val_loss: 0.0205\n",
      "Epoch 40/50\n",
      "31/31 [==============================] - 0s 5ms/step - loss: 0.0033 - val_loss: 0.0211\n",
      "Epoch 41/50\n",
      "31/31 [==============================] - 0s 6ms/step - loss: 0.0032 - val_loss: 0.0211\n",
      "Epoch 42/50\n",
      "31/31 [==============================] - 0s 5ms/step - loss: 0.0032 - val_loss: 0.0196\n",
      "Epoch 43/50\n",
      "31/31 [==============================] - 0s 5ms/step - loss: 0.0031 - val_loss: 0.0211\n",
      "Epoch 44/50\n",
      "31/31 [==============================] - 0s 6ms/step - loss: 0.0031 - val_loss: 0.0193\n",
      "Epoch 45/50\n",
      "31/31 [==============================] - 0s 5ms/step - loss: 0.0030 - val_loss: 0.0192\n",
      "Epoch 46/50\n",
      "31/31 [==============================] - 0s 5ms/step - loss: 0.0030 - val_loss: 0.0192\n",
      "Epoch 47/50\n",
      "31/31 [==============================] - 0s 6ms/step - loss: 0.0030 - val_loss: 0.0192\n",
      "Epoch 48/50\n",
      "31/31 [==============================] - 0s 6ms/step - loss: 0.0030 - val_loss: 0.0197\n",
      "Epoch 49/50\n",
      "31/31 [==============================] - 0s 7ms/step - loss: 0.0030 - val_loss: 0.0192\n",
      "Epoch 50/50\n",
      "31/31 [==============================] - 0s 6ms/step - loss: 0.0030 - val_loss: 0.0191\n"
     ]
    },
    {
     "data": {
      "text/plain": [
       "<keras.callbacks.History at 0x1e306b4c7f0>"
      ]
     },
     "execution_count": 8,
     "metadata": {},
     "output_type": "execute_result"
    }
   ],
   "source": [
    "classifier = Sequential()\n",
    "classifier.add(Dense(units = 32, kernel_initializer = 'uniform', activation = 'relu', input_dim = 3))\n",
    "classifier.add(Dense(units = 10, kernel_initializer = 'uniform', activation = 'relu'))\n",
    "classifier.add(Dense(units = 1, kernel_initializer = 'uniform', activation = 'linear'))\n",
    "classifier.compile(optimizer = 'adam', loss = 'mean_squared_error', metrics = [])\n",
    "classifier.fit(X_train, Y_train, batch_size = 128, epochs = 50, validation_split=0.05)"
   ]
  },
  {
   "cell_type": "markdown",
   "metadata": {},
   "source": [
    "<h2>Predicted Values</h2>"
   ]
  },
  {
   "cell_type": "code",
   "execution_count": 9,
   "metadata": {},
   "outputs": [
    {
     "name": "stdout",
     "output_type": "stream",
     "text": [
      "33/33 [==============================] - 0s 3ms/step\n",
      "[[20.685965]\n",
      " [20.834915]\n",
      " [21.030577]\n",
      " [20.903673]\n",
      " [20.862516]\n",
      " [20.745956]\n",
      " [20.736134]\n",
      " [20.575075]\n",
      " [20.170704]\n",
      " [19.484077]]\n"
     ]
    }
   ],
   "source": [
    "predictions = classifier.predict(X_test)\n",
    "print(predictions[:10])"
   ]
  },
  {
   "cell_type": "markdown",
   "metadata": {},
   "source": [
    "Execute the trained model"
   ]
  },
  {
   "cell_type": "markdown",
   "metadata": {},
   "source": [
    "<h2>Calculating the error in the trained Neural Network model</h2>"
   ]
  },
  {
   "cell_type": "code",
   "execution_count": 10,
   "metadata": {
    "collapsed": false
   },
   "outputs": [
    {
     "name": "stdout",
     "output_type": "stream",
     "text": [
      "Train Score: 0.00 MSE (0.06 RMSE)\n",
      "Test Score: 0.04 MSE (0.20 RMSE)\n"
     ]
    }
   ],
   "source": [
    "trainScore = classifier.evaluate(X_train, Y_train, verbose=0)\n",
    "print('Train Score: %.2f MSE (%.2f RMSE)' % (trainScore, math.sqrt(trainScore)))\n",
    "testScore = classifier.evaluate(X_test, Y_test, verbose=0)\n",
    "print('Test Score: %.2f MSE (%.2f RMSE)' % (testScore, math.sqrt(testScore)))"
   ]
  },
  {
   "cell_type": "markdown",
   "metadata": {},
   "source": [
    "<h2>Predictions vs Real results</h2>"
   ]
  },
  {
   "cell_type": "code",
   "execution_count": 11,
   "metadata": {
    "collapsed": false
   },
   "outputs": [
    {
     "data": {
      "image/png": "[encoded data removed]",
      "text/plain": [
       "<Figure size 432x288 with 1 Axes>"
      ]
     },
     "metadata": {
      "needs_background": "light"
     },
     "output_type": "display_data"
    },
    {
     "data": {
      "image/png": "[encoded data removed]",
      "text/plain": [
       "<Figure size 432x288 with 1 Axes>"
      ]
     },
     "metadata": {
      "needs_background": "light"
     },
     "output_type": "display_data"
    }
   ],
   "source": [
    "import matplotlib.pyplot as plt\n",
    "plt.plot(predictions,color='red', label='Predictions from the trained model')\n",
    "plt.legend(loc='upper left')\n",
    "plt.show()\n",
    "plt.plot(Y_test,color='blue', label='Read values for the stock')\n",
    "plt.legend(loc='upper left')\n",
    "plt.show()"
   ]
  },
  {
   "cell_type": "code",
   "execution_count": null,
   "metadata": {},
   "outputs": [],
   "source": []
  }
 ],
 "metadata": {
  "kernelspec": {
   "display_name": "base",
   "language": "python",
   "name": "python3"
  },
  "language_info": {
   "codemirror_mode": {
    "name": "ipython",
    "version": 3
   },
   "file_extension": ".py",
   "mimetype": "text/x-python",
   "name": "python",
   "nbconvert_exporter": "python",
   "pygments_lexer": "ipython3",
   "version": "3.9.12"
  },
  "vscode": {
   "interpreter": {
    "hash": "e8070615c614b468fd1de6336963f9d2847f75d3a444f9b05616daa657a2c1ed"
   }
  }
 },
 "nbformat": 4,
 "nbformat_minor": 2
}
