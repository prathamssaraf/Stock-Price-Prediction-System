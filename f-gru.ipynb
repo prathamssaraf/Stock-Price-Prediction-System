{
 "cells": [
  {
   "cell_type": "code",
   "execution_count": 119,
   "metadata": {},
   "outputs": [],
   "source": [
    "import warnings\n",
    "warnings.filterwarnings('ignore')\n",
    "import numpy as np\n",
    "import pandas as pd\n",
    "from sklearn import preprocessing\n",
    "from sklearn.model_selection import KFold, cross_val_score, cross_val_predict, GridSearchCV\n",
    "from sklearn.tree import DecisionTreeClassifier\n",
    "from sklearn.linear_model import LogisticRegression, Perceptron, SGDClassifier\n",
    "from sklearn.neighbors import KNeighborsClassifier\n",
    "from sklearn.naive_bayes import GaussianNB\n",
    "from sklearn.svm import SVC, LinearSVC\n",
    "from sklearn.ensemble import RandomForestClassifier , GradientBoostingClassifier\n",
    "from sklearn.impute import SimpleImputer\n",
    "from sklearn.preprocessing import  Normalizer , scale, LabelEncoder, OneHotEncoder, MinMaxScaler\n",
    "from sklearn.model_selection import StratifiedKFold\n",
    "from sklearn.model_selection import train_test_split\n",
    "from sklearn.feature_selection import RFECV\n",
    "from sklearn.metrics import make_scorer, accuracy_score, classification_report, confusion_matrix, mean_squared_error\n",
    "import matplotlib as mpl\n",
    "import matplotlib.pyplot as plt\n",
    "import matplotlib.pylab as pylab\n",
    "import seaborn as sns\n",
    "from pandas import get_dummies\n",
    "import xgboost as xgb\n",
    "import scipy\n",
    "import math\n",
    "import json\n",
    "import sys\n",
    "import csv\n",
    "import os\n",
    "import tqdm\n",
    "import keras\n",
    "from keras.models import Sequential\n",
    "from keras.layers import Dense, LSTM, Dropout, GRU, Bidirectional\n",
    "from keras.optimizers import SGD\n",
    "from tqdm import tqdm_notebook"
   ]
  },
  {
   "cell_type": "code",
   "execution_count": 120,
   "metadata": {},
   "outputs": [
    {
     "data": {
      "text/html": [
       "<div>\n",
       "<style scoped>\n",
       "    .dataframe tbody tr th:only-of-type {\n",
       "        vertical-align: middle;\n",
       "    }\n",
       "\n",
       "    .dataframe tbody tr th {\n",
       "        vertical-align: top;\n",
       "    }\n",
       "\n",
       "    .dataframe thead th {\n",
       "        text-align: right;\n",
       "    }\n",
       "</style>\n",
       "<table border=\"1\" class=\"dataframe\">\n",
       "  <thead>\n",
       "    <tr style=\"text-align: right;\">\n",
       "      <th></th>\n",
       "      <th>Date</th>\n",
       "      <th>Low</th>\n",
       "      <th>Open</th>\n",
       "      <th>Volume</th>\n",
       "      <th>High</th>\n",
       "      <th>Close</th>\n",
       "      <th>Adjusted Close</th>\n",
       "    </tr>\n",
       "  </thead>\n",
       "  <tbody>\n",
       "    <tr>\n",
       "      <th>0</th>\n",
       "      <td>2002-08-12</td>\n",
       "      <td>38.724998</td>\n",
       "      <td>38.724998</td>\n",
       "      <td>212976.0</td>\n",
       "      <td>40.000000</td>\n",
       "      <td>39.700001</td>\n",
       "      <td>28.484991</td>\n",
       "    </tr>\n",
       "    <tr>\n",
       "      <th>1</th>\n",
       "      <td>2002-08-13</td>\n",
       "      <td>38.875000</td>\n",
       "      <td>39.750000</td>\n",
       "      <td>153576.0</td>\n",
       "      <td>40.387501</td>\n",
       "      <td>39.162498</td>\n",
       "      <td>28.099335</td>\n",
       "    </tr>\n",
       "    <tr>\n",
       "      <th>2</th>\n",
       "      <td>2002-08-14</td>\n",
       "      <td>35.724998</td>\n",
       "      <td>39.250000</td>\n",
       "      <td>822776.0</td>\n",
       "      <td>39.250000</td>\n",
       "      <td>36.462502</td>\n",
       "      <td>26.162071</td>\n",
       "    </tr>\n",
       "    <tr>\n",
       "      <th>4</th>\n",
       "      <td>2002-08-16</td>\n",
       "      <td>35.750000</td>\n",
       "      <td>36.275002</td>\n",
       "      <td>811856.0</td>\n",
       "      <td>38.000000</td>\n",
       "      <td>36.375000</td>\n",
       "      <td>26.099281</td>\n",
       "    </tr>\n",
       "    <tr>\n",
       "      <th>5</th>\n",
       "      <td>2002-08-19</td>\n",
       "      <td>35.137501</td>\n",
       "      <td>36.674999</td>\n",
       "      <td>205880.0</td>\n",
       "      <td>36.674999</td>\n",
       "      <td>35.474998</td>\n",
       "      <td>25.453533</td>\n",
       "    </tr>\n",
       "    <tr>\n",
       "      <th>...</th>\n",
       "      <td>...</td>\n",
       "      <td>...</td>\n",
       "      <td>...</td>\n",
       "      <td>...</td>\n",
       "      <td>...</td>\n",
       "      <td>...</td>\n",
       "      <td>...</td>\n",
       "    </tr>\n",
       "    <tr>\n",
       "      <th>5149</th>\n",
       "      <td>2023-04-24</td>\n",
       "      <td>3126.149902</td>\n",
       "      <td>3151.100098</td>\n",
       "      <td>1640676.0</td>\n",
       "      <td>3180.949951</td>\n",
       "      <td>3174.800049</td>\n",
       "      <td>3174.800049</td>\n",
       "    </tr>\n",
       "    <tr>\n",
       "      <th>5150</th>\n",
       "      <td>2023-04-25</td>\n",
       "      <td>3147.500000</td>\n",
       "      <td>3183.000000</td>\n",
       "      <td>2024090.0</td>\n",
       "      <td>3191.199951</td>\n",
       "      <td>3176.000000</td>\n",
       "      <td>3176.000000</td>\n",
       "    </tr>\n",
       "    <tr>\n",
       "      <th>5151</th>\n",
       "      <td>2023-04-26</td>\n",
       "      <td>3181.000000</td>\n",
       "      <td>3181.000000</td>\n",
       "      <td>2000029.0</td>\n",
       "      <td>3208.399902</td>\n",
       "      <td>3198.149902</td>\n",
       "      <td>3198.149902</td>\n",
       "    </tr>\n",
       "    <tr>\n",
       "      <th>5152</th>\n",
       "      <td>2023-04-27</td>\n",
       "      <td>3170.649902</td>\n",
       "      <td>3185.000000</td>\n",
       "      <td>2434446.0</td>\n",
       "      <td>3199.199951</td>\n",
       "      <td>3187.949951</td>\n",
       "      <td>3187.949951</td>\n",
       "    </tr>\n",
       "    <tr>\n",
       "      <th>5153</th>\n",
       "      <td>2023-04-28</td>\n",
       "      <td>3196.250000</td>\n",
       "      <td>3200.399902</td>\n",
       "      <td>2931312.0</td>\n",
       "      <td>3227.250000</td>\n",
       "      <td>3219.250000</td>\n",
       "      <td>3219.250000</td>\n",
       "    </tr>\n",
       "  </tbody>\n",
       "</table>\n",
       "<p>4844 rows × 7 columns</p>\n",
       "</div>"
      ],
      "text/plain": [
       "            Date          Low         Open     Volume         High  \\\n",
       "0     2002-08-12    38.724998    38.724998   212976.0    40.000000   \n",
       "1     2002-08-13    38.875000    39.750000   153576.0    40.387501   \n",
       "2     2002-08-14    35.724998    39.250000   822776.0    39.250000   \n",
       "4     2002-08-16    35.750000    36.275002   811856.0    38.000000   \n",
       "5     2002-08-19    35.137501    36.674999   205880.0    36.674999   \n",
       "...          ...          ...          ...        ...          ...   \n",
       "5149  2023-04-24  3126.149902  3151.100098  1640676.0  3180.949951   \n",
       "5150  2023-04-25  3147.500000  3183.000000  2024090.0  3191.199951   \n",
       "5151  2023-04-26  3181.000000  3181.000000  2000029.0  3208.399902   \n",
       "5152  2023-04-27  3170.649902  3185.000000  2434446.0  3199.199951   \n",
       "5153  2023-04-28  3196.250000  3200.399902  2931312.0  3227.250000   \n",
       "\n",
       "            Close  Adjusted Close  \n",
       "0       39.700001       28.484991  \n",
       "1       39.162498       28.099335  \n",
       "2       36.462502       26.162071  \n",
       "4       36.375000       26.099281  \n",
       "5       35.474998       25.453533  \n",
       "...           ...             ...  \n",
       "5149  3174.800049     3174.800049  \n",
       "5150  3176.000000     3176.000000  \n",
       "5151  3198.149902     3198.149902  \n",
       "5152  3187.949951     3187.949951  \n",
       "5153  3219.250000     3219.250000  \n",
       "\n",
       "[4844 rows x 7 columns]"
      ]
     },
     "execution_count": 120,
     "metadata": {},
     "output_type": "execute_result"
    }
   ],
   "source": [
    "dataset = pd.read_csv(\"historic_data/csv/TCS.NS.csv\")\n",
    "\n",
    "# Drop all rows where volume is 0\n",
    "dataset = dataset[dataset[\"Volume\"] != 0]\n",
    "\n",
    "dataset['Date'] = pd.to_datetime(dataset['Date'], format='%d-%m-%Y')\n",
    "dataset['Date'] = dataset['Date'].dt.strftime('%Y-%m-%d')\n",
    "dataset"
   ]
  },
  {
   "cell_type": "code",
   "execution_count": 121,
   "metadata": {},
   "outputs": [],
   "source": [
    "def plot_predictions(test,predicted):\n",
    "    plt.plot(test, color='red',label='Real IBM Stock Price')\n",
    "    plt.plot(predicted, color='blue',label='Predicted IBM Stock Price')\n",
    "    plt.title('TCS Stock Price Prediction')\n",
    "    plt.xlabel('Time')\n",
    "    plt.ylabel('TCS Stock Price')\n",
    "    plt.legend()\n",
    "    plt.show()\n",
    "\n",
    "def return_rmse(test,predicted):\n",
    "    rmse = math.sqrt(mean_squared_error(test, predicted))\n",
    "    print(\"The root mean squared error is {}.\".format(rmse))"
   ]
  },
  {
   "cell_type": "code",
   "execution_count": 122,
   "metadata": {},
   "outputs": [],
   "source": [
    "dataset['Open'].fillna((dataset['Open'].mean()), inplace=True)\n",
    "dataset['Low'].fillna((dataset['Low'].mean()), inplace=True)"
   ]
  },
  {
   "cell_type": "code",
   "execution_count": 123,
   "metadata": {},
   "outputs": [],
   "source": [
    "training_set = dataset[dataset['Date'] < '2018'].iloc[:,1:2].values\n",
    "test_set = dataset[dataset['Date'] >= '2018'].iloc[:,1:2].values\n"
   ]
  },
  {
   "cell_type": "code",
   "execution_count": 124,
   "metadata": {},
   "outputs": [],
   "source": [
    "sc = MinMaxScaler(feature_range=(0,1))\n",
    "training_set_scaled = sc.fit_transform(training_set)"
   ]
  },
  {
   "cell_type": "code",
   "execution_count": 125,
   "metadata": {},
   "outputs": [],
   "source": [
    "X_train = []\n",
    "y_train = []\n",
    "for i in range(60,2769):\n",
    "    X_train.append(training_set_scaled[i-60:i,0])\n",
    "    y_train.append(training_set_scaled[i,0])\n",
    "X_train, y_train = np.array(X_train), np.array(y_train)"
   ]
  },
  {
   "cell_type": "code",
   "execution_count": 126,
   "metadata": {},
   "outputs": [],
   "source": [
    "X_train = np.reshape(X_train, (X_train.shape[0],X_train.shape[1],1))"
   ]
  },
  {
   "cell_type": "code",
   "execution_count": 127,
   "metadata": {},
   "outputs": [
    {
     "data": {
      "text/plain": [
       "(2709, 60, 1)"
      ]
     },
     "execution_count": 127,
     "metadata": {},
     "output_type": "execute_result"
    }
   ],
   "source": [
    "X_train.shape"
   ]
  },
  {
   "cell_type": "code",
   "execution_count": 102,
   "metadata": {},
   "outputs": [
    {
     "name": "stdout",
     "output_type": "stream",
     "text": [
      "Epoch 1/50\n",
      "19/19 [==============================] - 16s 371ms/step - loss: 0.0795\n",
      "Epoch 2/50\n",
      "19/19 [==============================] - 7s 350ms/step - loss: 0.0458\n",
      "Epoch 3/50\n",
      "19/19 [==============================] - 6s 335ms/step - loss: 0.0258\n",
      "Epoch 4/50\n",
      "19/19 [==============================] - 6s 311ms/step - loss: 0.0079\n",
      "Epoch 5/50\n",
      "19/19 [==============================] - 6s 302ms/step - loss: 0.0039\n",
      "Epoch 6/50\n",
      "19/19 [==============================] - 6s 317ms/step - loss: 0.0031\n",
      "Epoch 7/50\n",
      "19/19 [==============================] - 6s 304ms/step - loss: 0.0029\n",
      "Epoch 8/50\n",
      "19/19 [==============================] - 6s 300ms/step - loss: 0.0029\n",
      "Epoch 9/50\n",
      "19/19 [==============================] - 6s 315ms/step - loss: 0.0027\n",
      "Epoch 10/50\n",
      "19/19 [==============================] - 7s 349ms/step - loss: 0.0026\n",
      "Epoch 11/50\n",
      "19/19 [==============================] - 6s 332ms/step - loss: 0.0028\n",
      "Epoch 12/50\n",
      "19/19 [==============================] - 6s 307ms/step - loss: 0.0024\n",
      "Epoch 13/50\n",
      "19/19 [==============================] - 6s 314ms/step - loss: 0.0026\n",
      "Epoch 14/50\n",
      "19/19 [==============================] - 6s 313ms/step - loss: 0.0026\n",
      "Epoch 15/50\n",
      "19/19 [==============================] - 6s 327ms/step - loss: 0.0024\n",
      "Epoch 16/50\n",
      "19/19 [==============================] - 6s 307ms/step - loss: 0.0025\n",
      "Epoch 17/50\n",
      "19/19 [==============================] - 6s 313ms/step - loss: 0.0025\n",
      "Epoch 18/50\n",
      "19/19 [==============================] - 6s 305ms/step - loss: 0.0024\n",
      "Epoch 19/50\n",
      "19/19 [==============================] - 6s 308ms/step - loss: 0.0025\n",
      "Epoch 20/50\n",
      "19/19 [==============================] - 6s 306ms/step - loss: 0.0024\n",
      "Epoch 21/50\n",
      "19/19 [==============================] - 6s 314ms/step - loss: 0.0025\n",
      "Epoch 22/50\n",
      "19/19 [==============================] - 6s 306ms/step - loss: 0.0024\n",
      "Epoch 23/50\n",
      "19/19 [==============================] - 6s 316ms/step - loss: 0.0022\n",
      "Epoch 24/50\n",
      "19/19 [==============================] - 6s 315ms/step - loss: 0.0024\n",
      "Epoch 25/50\n",
      "19/19 [==============================] - 6s 306ms/step - loss: 0.0024\n",
      "Epoch 26/50\n",
      "19/19 [==============================] - 6s 320ms/step - loss: 0.0025\n",
      "Epoch 27/50\n",
      "19/19 [==============================] - 6s 307ms/step - loss: 0.0024\n",
      "Epoch 28/50\n",
      "19/19 [==============================] - 6s 308ms/step - loss: 0.0023\n",
      "Epoch 29/50\n",
      "19/19 [==============================] - 6s 320ms/step - loss: 0.0022\n",
      "Epoch 30/50\n",
      "19/19 [==============================] - 6s 304ms/step - loss: 0.0022\n",
      "Epoch 31/50\n",
      "19/19 [==============================] - 6s 316ms/step - loss: 0.0023\n",
      "Epoch 32/50\n",
      "19/19 [==============================] - 6s 315ms/step - loss: 0.0022\n",
      "Epoch 33/50\n",
      "19/19 [==============================] - 6s 317ms/step - loss: 0.0024\n",
      "Epoch 34/50\n",
      "19/19 [==============================] - 6s 316ms/step - loss: 0.0022\n",
      "Epoch 35/50\n",
      "19/19 [==============================] - 6s 307ms/step - loss: 0.0024\n",
      "Epoch 36/50\n",
      "19/19 [==============================] - 6s 304ms/step - loss: 0.0024\n",
      "Epoch 37/50\n",
      "19/19 [==============================] - 6s 314ms/step - loss: 0.0022\n",
      "Epoch 38/50\n",
      "19/19 [==============================] - 6s 309ms/step - loss: 0.0022\n",
      "Epoch 39/50\n",
      "19/19 [==============================] - 6s 323ms/step - loss: 0.0022\n",
      "Epoch 40/50\n",
      "19/19 [==============================] - 6s 309ms/step - loss: 0.0023\n",
      "Epoch 41/50\n",
      "19/19 [==============================] - 6s 310ms/step - loss: 0.0022\n",
      "Epoch 42/50\n",
      "19/19 [==============================] - 6s 315ms/step - loss: 0.0022\n",
      "Epoch 43/50\n",
      "19/19 [==============================] - 6s 311ms/step - loss: 0.0023\n",
      "Epoch 44/50\n",
      "19/19 [==============================] - 6s 311ms/step - loss: 0.0022\n",
      "Epoch 45/50\n",
      "19/19 [==============================] - 6s 319ms/step - loss: 0.0022\n",
      "Epoch 46/50\n",
      "19/19 [==============================] - 6s 312ms/step - loss: 0.0023\n",
      "Epoch 47/50\n",
      "19/19 [==============================] - 6s 326ms/step - loss: 0.0022\n",
      "Epoch 48/50\n",
      "19/19 [==============================] - 6s 310ms/step - loss: 0.0022\n",
      "Epoch 49/50\n",
      "19/19 [==============================] - 6s 325ms/step - loss: 0.0021\n",
      "Epoch 50/50\n",
      "19/19 [==============================] - 6s 342ms/step - loss: 0.0021\n"
     ]
    },
    {
     "data": {
      "text/plain": [
       "<keras.callbacks.History at 0x1e971938be0>"
      ]
     },
     "execution_count": 102,
     "metadata": {},
     "output_type": "execute_result"
    }
   ],
   "source": [
    "regressorGRU = Sequential()\n",
    "# First GRU layer with Dropout regularisation\n",
    "regressorGRU.add(GRU(units=50, return_sequences=True, input_shape=(X_train.shape[1],1), activation='tanh'))\n",
    "regressorGRU.add(Dropout(0.2))\n",
    "# Second GRU layer\n",
    "regressorGRU.add(GRU(units=50, return_sequences=True, input_shape=(X_train.shape[1],1), activation='tanh'))\n",
    "regressorGRU.add(Dropout(0.2))\n",
    "# Third GRU layer\n",
    "regressorGRU.add(GRU(units=50, return_sequences=True, input_shape=(X_train.shape[1],1), activation='tanh'))\n",
    "regressorGRU.add(Dropout(0.2))\n",
    "# Fourth GRU layer\n",
    "regressorGRU.add(GRU(units=50, activation='tanh'))\n",
    "regressorGRU.add(Dropout(0.2))\n",
    "# The output layer\n",
    "regressorGRU.add(Dense(units=1))\n",
    "# Compiling the RNN\n",
    "regressorGRU.compile(optimizer=SGD(lr=0.01, decay=1e-7, momentum=0.9, nesterov=False),loss='mean_squared_error')\n",
    "# Fitting to the training set\n",
    "regressorGRU.fit(X_train,y_train,epochs=50,batch_size=150)"
   ]
  },
  {
   "cell_type": "code",
   "execution_count": 103,
   "metadata": {},
   "outputs": [],
   "source": [
    "# Convert the Date column to a pandas datetime object\n",
    "dataset['Date'] = pd.to_datetime(dataset['Date'])\n",
    "\n",
    "# Set the Date column as the index\n",
    "dataset.set_index('Date', inplace=True)\n",
    "\n",
    "# Concatenate the two subsets of the High column\n",
    "dataset_total = pd.concat((dataset[\"High\"][:'2016-12-31'],dataset[\"High\"]['2017':]),axis=0)\n"
   ]
  },
  {
   "cell_type": "code",
   "execution_count": 104,
   "metadata": {},
   "outputs": [],
   "source": [
    "inputs = dataset_total[len(dataset_total)-len(test_set) - 60:].values"
   ]
  },
  {
   "cell_type": "code",
   "execution_count": 105,
   "metadata": {},
   "outputs": [],
   "source": [
    "inputs = inputs.reshape(-1,1)\n",
    "inputs  = sc.transform(inputs)"
   ]
  },
  {
   "cell_type": "code",
   "execution_count": 111,
   "metadata": {},
   "outputs": [
    {
     "name": "stdout",
     "output_type": "stream",
     "text": [
      "40/40 [==============================] - 1s 27ms/step\n"
     ]
    }
   ],
   "source": [
    "X_test = []\n",
    "for i in range(60,1340):\n",
    "    X_test.append(inputs[i-60:i,0])\n",
    "X_test = np.array(X_test)\n",
    "X_test = np.reshape(X_test, (X_test.shape[0],X_test.shape[1],1))\n",
    "GRU_predicted_stock_price = regressorGRU.predict(X_test)\n",
    "GRU_predicted_stock_price = sc.inverse_transform(GRU_predicted_stock_price)"
   ]
  },
  {
   "cell_type": "code",
   "execution_count": 112,
   "metadata": {},
   "outputs": [
    {
     "data": {
      "image/png": "[encoded data removed]",
      "text/plain": [
       "<Figure size 432x288 with 1 Axes>"
      ]
     },
     "metadata": {
      "needs_background": "light"
     },
     "output_type": "display_data"
    }
   ],
   "source": [
    "plot_predictions(test_set,GRU_predicted_stock_price)"
   ]
  },
  {
   "cell_type": "code",
   "execution_count": 113,
   "metadata": {},
   "outputs": [
    {
     "name": "stdout",
     "output_type": "stream",
     "text": [
      "The root mean squared error is 86.51166795908492.\n"
     ]
    }
   ],
   "source": [
    "return_rmse(test_set[:400], GRU_predicted_stock_price[:400])\n"
   ]
  },
  {
   "cell_type": "code",
   "execution_count": 130,
   "metadata": {},
   "outputs": [
    {
     "ename": "InvalidArgumentError",
     "evalue": "Graph execution error:\n\nSpecified a list with shape [?,1] from a tensor with shape [1,2]\n\t [[{{node TensorArrayUnstack/TensorListFromTensor}}]]\n\t [[sequential_5/gru_16/PartitionedCall]] [Op:__inference_predict_function_88693]",
     "output_type": "error",
     "traceback": [
      "\u001b[1;31m---------------------------------------------------------------------------\u001b[0m",
      "\u001b[1;31mInvalidArgumentError\u001b[0m                      Traceback (most recent call last)",
      "\u001b[1;32mc:\\Users\\prath\\Desktop\\Stock_Predictor\\f-gru.ipynb Cell 17\u001b[0m in \u001b[0;36m<cell line: 1>\u001b[1;34m()\u001b[0m\n\u001b[0;32m      <a href='vscode-notebook-cell:/c%3A/Users/prath/Desktop/Stock_Predictor/f-gru.ipynb#X22sZmlsZQ%3D%3D?line=0'>1</a>\u001b[0m \u001b[39mfor\u001b[39;00m i \u001b[39min\u001b[39;00m \u001b[39mrange\u001b[39m(\u001b[39m2\u001b[39m):\n\u001b[1;32m----> <a href='vscode-notebook-cell:/c%3A/Users/prath/Desktop/Stock_Predictor/f-gru.ipynb#X22sZmlsZQ%3D%3D?line=1'>2</a>\u001b[0m     next_day_pred \u001b[39m=\u001b[39m regressorGRU\u001b[39m.\u001b[39;49mpredict(last_60_days\u001b[39m.\u001b[39;49mreshape(\u001b[39m1\u001b[39;49m, \u001b[39m-\u001b[39;49m\u001b[39m1\u001b[39;49m, \u001b[39m2\u001b[39;49m))\n\u001b[0;32m      <a href='vscode-notebook-cell:/c%3A/Users/prath/Desktop/Stock_Predictor/f-gru.ipynb#X22sZmlsZQ%3D%3D?line=2'>3</a>\u001b[0m     next_two_days\u001b[39m.\u001b[39mappend(next_day_pred[\u001b[39m0\u001b[39m, \u001b[39m0\u001b[39m])\n\u001b[0;32m      <a href='vscode-notebook-cell:/c%3A/Users/prath/Desktop/Stock_Predictor/f-gru.ipynb#X22sZmlsZQ%3D%3D?line=3'>4</a>\u001b[0m     last_60_days \u001b[39m=\u001b[39m np\u001b[39m.\u001b[39mappend(last_60_days[\u001b[39m1\u001b[39m:], [[next_day_pred[\u001b[39m0\u001b[39m, \u001b[39m0\u001b[39m], next_day_pred[\u001b[39m0\u001b[39m, \u001b[39m0\u001b[39m]]], axis\u001b[39m=\u001b[39m\u001b[39m0\u001b[39m)\n",
      "File \u001b[1;32mc:\\Users\\prath\\anaconda3\\lib\\site-packages\\keras\\utils\\traceback_utils.py:70\u001b[0m, in \u001b[0;36mfilter_traceback.<locals>.error_handler\u001b[1;34m(*args, **kwargs)\u001b[0m\n\u001b[0;32m     67\u001b[0m     filtered_tb \u001b[39m=\u001b[39m _process_traceback_frames(e\u001b[39m.\u001b[39m__traceback__)\n\u001b[0;32m     68\u001b[0m     \u001b[39m# To get the full stack trace, call:\u001b[39;00m\n\u001b[0;32m     69\u001b[0m     \u001b[39m# `tf.debugging.disable_traceback_filtering()`\u001b[39;00m\n\u001b[1;32m---> 70\u001b[0m     \u001b[39mraise\u001b[39;00m e\u001b[39m.\u001b[39mwith_traceback(filtered_tb) \u001b[39mfrom\u001b[39;00m \u001b[39mNone\u001b[39m\n\u001b[0;32m     71\u001b[0m \u001b[39mfinally\u001b[39;00m:\n\u001b[0;32m     72\u001b[0m     \u001b[39mdel\u001b[39;00m filtered_tb\n",
      "File \u001b[1;32mc:\\Users\\prath\\anaconda3\\lib\\site-packages\\tensorflow\\python\\eager\\execute.py:54\u001b[0m, in \u001b[0;36mquick_execute\u001b[1;34m(op_name, num_outputs, inputs, attrs, ctx, name)\u001b[0m\n\u001b[0;32m     52\u001b[0m \u001b[39mtry\u001b[39;00m:\n\u001b[0;32m     53\u001b[0m   ctx\u001b[39m.\u001b[39mensure_initialized()\n\u001b[1;32m---> 54\u001b[0m   tensors \u001b[39m=\u001b[39m pywrap_tfe\u001b[39m.\u001b[39mTFE_Py_Execute(ctx\u001b[39m.\u001b[39m_handle, device_name, op_name,\n\u001b[0;32m     55\u001b[0m                                       inputs, attrs, num_outputs)\n\u001b[0;32m     56\u001b[0m \u001b[39mexcept\u001b[39;00m core\u001b[39m.\u001b[39m_NotOkStatusException \u001b[39mas\u001b[39;00m e:\n\u001b[0;32m     57\u001b[0m   \u001b[39mif\u001b[39;00m name \u001b[39mis\u001b[39;00m \u001b[39mnot\u001b[39;00m \u001b[39mNone\u001b[39;00m:\n",
      "\u001b[1;31mInvalidArgumentError\u001b[0m: Graph execution error:\n\nSpecified a list with shape [?,1] from a tensor with shape [1,2]\n\t [[{{node TensorArrayUnstack/TensorListFromTensor}}]]\n\t [[sequential_5/gru_16/PartitionedCall]] [Op:__inference_predict_function_88693]"
     ]
    }
   ],
   "source": [
    "for i in range(2):\n",
    "    next_day_pred = regressorGRU.predict(last_60_days.reshape(1, -1, 2))\n",
    "    next_two_days.append(next_day_pred[0, 0])\n",
    "    last_60_days = np.append(last_60_days[1:], [[next_day_pred[0, 0], next_day_pred[0, 0]]], axis=0)\n"
   ]
  },
  {
   "cell_type": "code",
   "execution_count": null,
   "metadata": {},
   "outputs": [],
   "source": []
  }
 ],
 "metadata": {
  "kernelspec": {
   "display_name": "base",
   "language": "python",
   "name": "python3"
  },
  "language_info": {
   "codemirror_mode": {
    "name": "ipython",
    "version": 3
   },
   "file_extension": ".py",
   "mimetype": "text/x-python",
   "name": "python",
   "nbconvert_exporter": "python",
   "pygments_lexer": "ipython3",
   "version": "3.9.12"
  },
  "orig_nbformat": 4
 },
 "nbformat": 4,
 "nbformat_minor": 2
}
