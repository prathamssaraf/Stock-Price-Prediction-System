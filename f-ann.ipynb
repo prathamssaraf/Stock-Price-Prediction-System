{
 "cells": [
  {
   "cell_type": "code",
   "execution_count": 14,
   "metadata": {
    "collapsed": false,
    "deletable": true,
    "editable": true,
    "scrolled": true
   },
   "outputs": [
    {
     "name": "stderr",
     "output_type": "stream",
     "text": [
      "C:\\Users\\prath\\AppData\\Local\\Temp\\ipykernel_17844\\1858431299.py:5: FutureWarning: The pandas.datetime class is deprecated and will be removed from pandas in a future version. Import from datetime module instead.\n",
      "  from pandas import datetime\n"
     ]
    }
   ],
   "source": [
    "import numpy as np\n",
    "import pandas as pd\n",
    "import matplotlib.pyplot as plt\n",
    "import pandas as pd\n",
    "from pandas import datetime\n",
    "import math\n",
    "from math import sqrt\n",
    "from keras.models import Sequential\n",
    "from keras.layers.core import Dense, Dropout, Activation"
   ]
  },
  {
   "cell_type": "markdown",
   "metadata": {
    "deletable": true,
    "editable": true
   },
   "source": [
    "* Get the stock data from Yahoo finance as a CSV for any company. \n",
    "* Drop all other columns (Volume, Year, Month and Day) and retain Open, High and Close - since I'm just predicting the close value for a day"
   ]
  },
  {
   "cell_type": "code",
   "execution_count": 15,
   "metadata": {
    "collapsed": true,
    "deletable": true,
    "editable": true
   },
   "outputs": [
    {
     "ename": "NameError",
     "evalue": "name 'train_test_split' is not defined",
     "output_type": "error",
     "traceback": [
      "\u001b[1;31m---------------------------------------------------------------------------\u001b[0m",
      "\u001b[1;31mNameError\u001b[0m                                 Traceback (most recent call last)",
      "\u001b[1;32mc:\\Users\\prath\\Desktop\\Stock_Predictor\\ann.ipynb Cell 3\u001b[0m in \u001b[0;36m<cell line: 22>\u001b[1;34m()\u001b[0m\n\u001b[0;32m     <a href='vscode-notebook-cell:/c%3A/Users/prath/Desktop/Stock_Predictor/ann.ipynb#W2sZmlsZQ%3D%3D?line=18'>19</a>\u001b[0m y \u001b[39m=\u001b[39m df[\u001b[39m\"\u001b[39m\u001b[39mAdjusted Close\u001b[39m\u001b[39m\"\u001b[39m]\n\u001b[0;32m     <a href='vscode-notebook-cell:/c%3A/Users/prath/Desktop/Stock_Predictor/ann.ipynb#W2sZmlsZQ%3D%3D?line=20'>21</a>\u001b[0m \u001b[39m# Split the data into training and testing sets\u001b[39;00m\n\u001b[1;32m---> <a href='vscode-notebook-cell:/c%3A/Users/prath/Desktop/Stock_Predictor/ann.ipynb#W2sZmlsZQ%3D%3D?line=21'>22</a>\u001b[0m X_train, X_test, y_train, y_test \u001b[39m=\u001b[39m train_test_split(X, y, test_size\u001b[39m=\u001b[39m\u001b[39m0.2\u001b[39m)\n",
      "\u001b[1;31mNameError\u001b[0m: name 'train_test_split' is not defined"
     ]
    }
   ],
   "source": [
    "df = pd.read_csv(\"historic_data/csv/TCS.NS.csv\")\n",
    "\n",
    "# Drop all rows where volume is 0\n",
    "df = df[df[\"Volume\"] != 0]\n",
    "\n",
    "df['Date'] = pd.to_datetime(df['Date'], format='%d-%m-%Y')\n",
    "df['Date'] = df['Date'].dt.strftime('%Y-%m-%d')\n",
    "\n",
    "# Drop rows with NaN or infinite values\n",
    "df = df.replace([np.inf, -np.inf], np.nan) # replace inf values with NaN\n",
    "df = df.dropna() # drop rows with NaN values\n",
    "\n",
    "# Convert the date column to ordinal values\n",
    "df['Date'] = pd.to_datetime(df['Date'])\n",
    "df['Date'] = df['Date'].apply(lambda date: date.toordinal())\n",
    "\n",
    "# Split the data into features (X) and target (y)\n",
    "X = df.drop(\"Adjusted Close\", axis=1).sort_values(by=\"Date\")\n",
    "y = df[\"Adjusted Close\"]\n",
    "\n",
    "# Split the data into training and testing sets\n",
    "X_train, X_test, y_train, y_test = train_test_split(X, y, test_size=0.2)"
   ]
  },
  {
   "cell_type": "code",
   "execution_count": 4,
   "metadata": {
    "collapsed": false,
    "deletable": true,
    "editable": true
   },
   "outputs": [
    {
     "data": {
      "text/html": [
       "<div>\n",
       "<style scoped>\n",
       "    .dataframe tbody tr th:only-of-type {\n",
       "        vertical-align: middle;\n",
       "    }\n",
       "\n",
       "    .dataframe tbody tr th {\n",
       "        vertical-align: top;\n",
       "    }\n",
       "\n",
       "    .dataframe thead th {\n",
       "        text-align: right;\n",
       "    }\n",
       "</style>\n",
       "<table border=\"1\" class=\"dataframe\">\n",
       "  <thead>\n",
       "    <tr style=\"text-align: right;\">\n",
       "      <th></th>\n",
       "      <th>Open</th>\n",
       "      <th>High</th>\n",
       "      <th>Close</th>\n",
       "      <th>Volume</th>\n",
       "    </tr>\n",
       "    <tr>\n",
       "      <th>Date</th>\n",
       "      <th></th>\n",
       "      <th></th>\n",
       "      <th></th>\n",
       "      <th></th>\n",
       "    </tr>\n",
       "  </thead>\n",
       "  <tbody>\n",
       "    <tr>\n",
       "      <th>2002-08-12</th>\n",
       "      <td>38.724998</td>\n",
       "      <td>38.724998</td>\n",
       "      <td>40.000000</td>\n",
       "      <td>0.003970</td>\n",
       "    </tr>\n",
       "    <tr>\n",
       "      <th>2002-08-13</th>\n",
       "      <td>38.875000</td>\n",
       "      <td>39.750000</td>\n",
       "      <td>40.387501</td>\n",
       "      <td>0.003916</td>\n",
       "    </tr>\n",
       "    <tr>\n",
       "      <th>2002-08-14</th>\n",
       "      <td>35.724998</td>\n",
       "      <td>39.250000</td>\n",
       "      <td>39.250000</td>\n",
       "      <td>0.003646</td>\n",
       "    </tr>\n",
       "    <tr>\n",
       "      <th>2002-08-15</th>\n",
       "      <td>36.462502</td>\n",
       "      <td>36.462502</td>\n",
       "      <td>36.462502</td>\n",
       "      <td>0.003646</td>\n",
       "    </tr>\n",
       "    <tr>\n",
       "      <th>2002-08-16</th>\n",
       "      <td>35.750000</td>\n",
       "      <td>36.275002</td>\n",
       "      <td>38.000000</td>\n",
       "      <td>0.003638</td>\n",
       "    </tr>\n",
       "  </tbody>\n",
       "</table>\n",
       "</div>"
      ],
      "text/plain": [
       "                 Open       High      Close    Volume\n",
       "Date                                                 \n",
       "2002-08-12  38.724998  38.724998  40.000000  0.003970\n",
       "2002-08-13  38.875000  39.750000  40.387501  0.003916\n",
       "2002-08-14  35.724998  39.250000  39.250000  0.003646\n",
       "2002-08-15  36.462502  36.462502  36.462502  0.003646\n",
       "2002-08-16  35.750000  36.275002  38.000000  0.003638"
      ]
     },
     "execution_count": 4,
     "metadata": {},
     "output_type": "execute_result"
    }
   ],
   "source": [
    "df.drop(df.columns[[0,3,6, 7,8,9]], axis=1, inplace=True)\n",
    "df.head()"
   ]
  },
  {
   "cell_type": "markdown",
   "metadata": {
    "deletable": true,
    "editable": true
   },
   "source": [
    "<h2>Normalizing and removing the null data points</h2>"
   ]
  },
  {
   "cell_type": "code",
   "execution_count": 5,
   "metadata": {
    "collapsed": false,
    "deletable": true,
    "editable": true
   },
   "outputs": [
    {
     "name": "stdout",
     "output_type": "stream",
     "text": [
      "                 Open       High      Close     Volume\n",
      "Date                                                  \n",
      "2002-08-12   0.387250   0.387250   0.400000   0.397000\n",
      "2002-08-13   0.388750   0.397500   0.403875   0.391625\n",
      "2002-08-14   0.357250   0.392500   0.392500   0.364625\n",
      "2002-08-15   0.364625   0.364625   0.364625   0.364625\n",
      "2002-08-16   0.357500   0.362750   0.380000   0.363750\n",
      "...               ...        ...        ...        ...\n",
      "2023-04-24  31.261499  31.511001  31.809500  31.748000\n",
      "2023-04-25  31.475000  31.830000  31.912000  31.760000\n",
      "2023-04-26  31.810000  31.810000  32.083999  31.981499\n",
      "2023-04-27  31.706499  31.850000  31.992000  31.879500\n",
      "2023-04-28  31.962500  32.003999  32.272500  32.192500\n",
      "\n",
      "[5154 rows x 4 columns]\n"
     ]
    }
   ],
   "source": [
    "df['Open'] = df['Open']/100\n",
    "df['High'] = df['High']/100\n",
    "df['Volume'] = df['Volume']*100\n",
    "df['Close'] = df['Close']/100\n",
    "print(df)\n",
    "nan_value_index = []\n",
    "High = df.High.isnull()\n",
    "for i in range(0, len(High)):\n",
    "    if High[i] == 1:\n",
    "        nan_value_index.append(i)\n",
    "        df['High'][i] = 0\n",
    "Open = df.Open.isnull()\n",
    "for i in range(0, len(Open)):\n",
    "    if Open[i] == 1:\n",
    "        nan_value_index.append(i)\n",
    "        df['Open'][i] = 0\n",
    "Volume = df.Volume.isnull()\n",
    "for i in range(0, len(Volume)):\n",
    "    if Volume[i] == 1:\n",
    "        nan_value_index.append(i)\n",
    "        df['Volume'][i] = 0\n",
    "Close = df.Close.isnull()\n",
    "for i in range(0, len(Close)):\n",
    "    if Close[i] == 1:\n",
    "        nan_value_index.append(i)\n",
    "        df['Close'][i] = 0"
   ]
  },
  {
   "cell_type": "code",
   "execution_count": 6,
   "metadata": {},
   "outputs": [],
   "source": [
    "X = df[['High','Open', 'Volume']]\n",
    "Y = df[['Close']]\n",
    "factor = 0.80\n",
    "length = X.shape[0]\n",
    "total_for_train = int(length*factor)\n",
    "X_train = X[:total_for_train]\n",
    "Y_train = Y[:total_for_train]\n",
    "X_test = X[total_for_train:]\n",
    "Y_test = Y[total_for_train:]"
   ]
  },
  {
   "cell_type": "code",
   "execution_count": 7,
   "metadata": {
    "collapsed": false,
    "deletable": true,
    "editable": true
   },
   "outputs": [
    {
     "name": "stdout",
     "output_type": "stream",
     "text": [
      "X_train (4123, 3)\n",
      "y_train (4123, 1)\n",
      "X_test (1031, 3)\n",
      "y_test (1031, 1)\n"
     ]
    }
   ],
   "source": [
    "print(\"X_train\", X_train.shape)\n",
    "print(\"y_train\", Y_train.shape)\n",
    "print(\"X_test\", X_test.shape)\n",
    "print(\"y_test\", Y_test.shape)"
   ]
  },
  {
   "cell_type": "markdown",
   "metadata": {},
   "source": [
    "<h2>Compiling and training the neural network model</h2>"
   ]
  },
  {
   "cell_type": "code",
   "execution_count": 8,
   "metadata": {
    "collapsed": true,
    "deletable": true,
    "editable": true
   },
   "outputs": [
    {
     "name": "stdout",
     "output_type": "stream",
     "text": [
      "Epoch 1/50\n",
      "31/31 [==============================] - 1s 13ms/step - loss: 55.1196 - val_loss: 375.9804\n",
      "Epoch 2/50\n",
      "31/31 [==============================] - 0s 6ms/step - loss: 53.8152 - val_loss: 362.7650\n",
      "Epoch 3/50\n",
      "31/31 [==============================] - 0s 5ms/step - loss: 50.2677 - val_loss: 327.0996\n",
      "Epoch 4/50\n",
      "31/31 [==============================] - 0s 5ms/step - loss: 42.5787 - val_loss: 258.6749\n",
      "Epoch 5/50\n",
      "31/31 [==============================] - 0s 4ms/step - loss: 30.1944 - val_loss: 161.7366\n",
      "Epoch 6/50\n",
      "31/31 [==============================] - 0s 3ms/step - loss: 15.7627 - val_loss: 67.0791\n",
      "Epoch 7/50\n",
      "31/31 [==============================] - 0s 4ms/step - loss: 4.8301 - val_loss: 14.4947\n",
      "Epoch 8/50\n",
      "31/31 [==============================] - 0s 4ms/step - loss: 0.6975 - val_loss: 1.5000\n",
      "Epoch 9/50\n",
      "31/31 [==============================] - 0s 5ms/step - loss: 0.1391 - val_loss: 0.3618\n",
      "Epoch 10/50\n",
      "31/31 [==============================] - 0s 7ms/step - loss: 0.1241 - val_loss: 0.3445\n",
      "Epoch 11/50\n",
      "31/31 [==============================] - 0s 3ms/step - loss: 0.1200 - val_loss: 0.3576\n",
      "Epoch 12/50\n",
      "31/31 [==============================] - 0s 4ms/step - loss: 0.1160 - val_loss: 0.3459\n",
      "Epoch 13/50\n",
      "31/31 [==============================] - 0s 4ms/step - loss: 0.1119 - val_loss: 0.3318\n",
      "Epoch 14/50\n",
      "31/31 [==============================] - 0s 4ms/step - loss: 0.1078 - val_loss: 0.3215\n",
      "Epoch 15/50\n",
      "31/31 [==============================] - 0s 4ms/step - loss: 0.1036 - val_loss: 0.3113\n",
      "Epoch 16/50\n",
      "31/31 [==============================] - 0s 4ms/step - loss: 0.0995 - val_loss: 0.2971\n",
      "Epoch 17/50\n",
      "31/31 [==============================] - 0s 3ms/step - loss: 0.0954 - val_loss: 0.2834\n",
      "Epoch 18/50\n",
      "31/31 [==============================] - 0s 4ms/step - loss: 0.0913 - val_loss: 0.2727\n",
      "Epoch 19/50\n",
      "31/31 [==============================] - 0s 3ms/step - loss: 0.0872 - val_loss: 0.2536\n",
      "Epoch 20/50\n",
      "31/31 [==============================] - 0s 3ms/step - loss: 0.0832 - val_loss: 0.2498\n",
      "Epoch 21/50\n",
      "31/31 [==============================] - 0s 3ms/step - loss: 0.0792 - val_loss: 0.2392\n",
      "Epoch 22/50\n",
      "31/31 [==============================] - 0s 3ms/step - loss: 0.0754 - val_loss: 0.2211\n",
      "Epoch 23/50\n",
      "31/31 [==============================] - 0s 4ms/step - loss: 0.0716 - val_loss: 0.2096\n",
      "Epoch 24/50\n",
      "31/31 [==============================] - 0s 3ms/step - loss: 0.0679 - val_loss: 0.2065\n",
      "Epoch 25/50\n",
      "31/31 [==============================] - 0s 4ms/step - loss: 0.0643 - val_loss: 0.1881\n",
      "Epoch 26/50\n",
      "31/31 [==============================] - 0s 3ms/step - loss: 0.0608 - val_loss: 0.1818\n",
      "Epoch 27/50\n",
      "31/31 [==============================] - 0s 4ms/step - loss: 0.0574 - val_loss: 0.1698\n",
      "Epoch 28/50\n",
      "31/31 [==============================] - 0s 3ms/step - loss: 0.0541 - val_loss: 0.1601\n",
      "Epoch 29/50\n",
      "31/31 [==============================] - 0s 3ms/step - loss: 0.0509 - val_loss: 0.1529\n",
      "Epoch 30/50\n",
      "31/31 [==============================] - 0s 4ms/step - loss: 0.0479 - val_loss: 0.1396\n",
      "Epoch 31/50\n",
      "31/31 [==============================] - 0s 3ms/step - loss: 0.0449 - val_loss: 0.1335\n",
      "Epoch 32/50\n",
      "31/31 [==============================] - 0s 4ms/step - loss: 0.0421 - val_loss: 0.1234\n",
      "Epoch 33/50\n",
      "31/31 [==============================] - 0s 3ms/step - loss: 0.0394 - val_loss: 0.1167\n",
      "Epoch 34/50\n",
      "31/31 [==============================] - 0s 3ms/step - loss: 0.0369 - val_loss: 0.1140\n",
      "Epoch 35/50\n",
      "31/31 [==============================] - 0s 3ms/step - loss: 0.0344 - val_loss: 0.1005\n",
      "Epoch 36/50\n",
      "31/31 [==============================] - 0s 3ms/step - loss: 0.0321 - val_loss: 0.0957\n",
      "Epoch 37/50\n",
      "31/31 [==============================] - 0s 3ms/step - loss: 0.0299 - val_loss: 0.0890\n",
      "Epoch 38/50\n",
      "31/31 [==============================] - 0s 3ms/step - loss: 0.0279 - val_loss: 0.0841\n",
      "Epoch 39/50\n",
      "31/31 [==============================] - 0s 3ms/step - loss: 0.0259 - val_loss: 0.0781\n",
      "Epoch 40/50\n",
      "31/31 [==============================] - 0s 3ms/step - loss: 0.0240 - val_loss: 0.0738\n",
      "Epoch 41/50\n",
      "31/31 [==============================] - 0s 4ms/step - loss: 0.0223 - val_loss: 0.0685\n",
      "Epoch 42/50\n",
      "31/31 [==============================] - 0s 4ms/step - loss: 0.0207 - val_loss: 0.0625\n",
      "Epoch 43/50\n",
      "31/31 [==============================] - 0s 4ms/step - loss: 0.0192 - val_loss: 0.0569\n",
      "Epoch 44/50\n",
      "31/31 [==============================] - 0s 4ms/step - loss: 0.0178 - val_loss: 0.0562\n",
      "Epoch 45/50\n",
      "31/31 [==============================] - 0s 3ms/step - loss: 0.0164 - val_loss: 0.0522\n",
      "Epoch 46/50\n",
      "31/31 [==============================] - 0s 4ms/step - loss: 0.0152 - val_loss: 0.0471\n",
      "Epoch 47/50\n",
      "31/31 [==============================] - 0s 4ms/step - loss: 0.0141 - val_loss: 0.0468\n",
      "Epoch 48/50\n",
      "31/31 [==============================] - 0s 4ms/step - loss: 0.0130 - val_loss: 0.0400\n",
      "Epoch 49/50\n",
      "31/31 [==============================] - 0s 4ms/step - loss: 0.0121 - val_loss: 0.0403\n",
      "Epoch 50/50\n",
      "31/31 [==============================] - 0s 4ms/step - loss: 0.0112 - val_loss: 0.0396\n"
     ]
    },
    {
     "data": {
      "text/plain": [
       "<keras.callbacks.History at 0x21e4bae8a90>"
      ]
     },
     "execution_count": 8,
     "metadata": {},
     "output_type": "execute_result"
    }
   ],
   "source": [
    "classifier = Sequential()\n",
    "classifier.add(Dense(units = 32, kernel_initializer = 'uniform', activation = 'relu', input_dim = 3))\n",
    "classifier.add(Dense(units = 10, kernel_initializer = 'uniform', activation = 'relu'))\n",
    "classifier.add(Dense(units = 1, kernel_initializer = 'uniform', activation = 'linear'))\n",
    "classifier.compile(optimizer = 'adam', loss = 'mean_squared_error', metrics = [])\n",
    "classifier.fit(X_train, Y_train, batch_size = 128, epochs = 50, validation_split=0.05)"
   ]
  },
  {
   "cell_type": "markdown",
   "metadata": {},
   "source": [
    "<h2>Predicted Values</h2>"
   ]
  },
  {
   "cell_type": "code",
   "execution_count": 9,
   "metadata": {},
   "outputs": [
    {
     "name": "stdout",
     "output_type": "stream",
     "text": [
      "33/33 [==============================] - 0s 2ms/step\n",
      "[[19.609396]\n",
      " [20.098186]\n",
      " [20.508965]\n",
      " [20.167833]\n",
      " [20.009733]\n",
      " [20.004004]\n",
      " [20.0213  ]\n",
      " [20.169136]\n",
      " [20.29843 ]\n",
      " [20.262474]]\n"
     ]
    }
   ],
   "source": [
    "predictions = classifier.predict(X_test)\n",
    "print(predictions[:10])"
   ]
  },
  {
   "cell_type": "markdown",
   "metadata": {},
   "source": [
    "Execute the trained model"
   ]
  },
  {
   "cell_type": "markdown",
   "metadata": {},
   "source": [
    "<h2>Calculating the error in the trained Neural Network model</h2>"
   ]
  },
  {
   "cell_type": "code",
   "execution_count": 10,
   "metadata": {
    "collapsed": false
   },
   "outputs": [
    {
     "name": "stdout",
     "output_type": "stream",
     "text": [
      "Train Score: 0.01 MSE (0.11 RMSE)\n",
      "Test Score: 0.13 MSE (0.36 RMSE)\n"
     ]
    }
   ],
   "source": [
    "trainScore = classifier.evaluate(X_train, Y_train, verbose=0)\n",
    "print('Train Score: %.2f MSE (%.2f RMSE)' % (trainScore, math.sqrt(trainScore)))\n",
    "testScore = classifier.evaluate(X_test, Y_test, verbose=0)\n",
    "print('Test Score: %.2f MSE (%.2f RMSE)' % (testScore, math.sqrt(testScore)))"
   ]
  },
  {
   "cell_type": "markdown",
   "metadata": {},
   "source": [
    "<h2>Predictions vs Real results</h2>"
   ]
  },
  {
   "cell_type": "code",
   "execution_count": 12,
   "metadata": {
    "collapsed": false
   },
   "outputs": [
    {
     "data": {
      "image/png": "[encoded data removed]",
      "text/plain": [
       "<Figure size 432x288 with 1 Axes>"
      ]
     },
     "metadata": {
      "needs_background": "light"
     },
     "output_type": "display_data"
    }
   ],
   "source": [
    "import matplotlib.pyplot as plt\n",
    "\n",
    "plt.plot(predictions,color='red', label='Predictions from the trained model')\n",
    "plt.plot(Y_test,color='blue', label='Read values for the stock')\n",
    "plt.legend(loc='upper left')\n",
    "plt.show()\n"
   ]
  },
  {
   "cell_type": "code",
   "execution_count": null,
   "metadata": {},
   "outputs": [],
   "source": []
  }
 ],
 "metadata": {
  "kernelspec": {
   "display_name": "base",
   "language": "python",
   "name": "python3"
  },
  "language_info": {
   "codemirror_mode": {
    "name": "ipython",
    "version": 3
   },
   "file_extension": ".py",
   "mimetype": "text/x-python",
   "name": "python",
   "nbconvert_exporter": "python",
   "pygments_lexer": "ipython3",
   "version": "3.9.12"
  },
  "vscode": {
   "interpreter": {
    "hash": "e8070615c614b468fd1de6336963f9d2847f75d3a444f9b05616daa657a2c1ed"
   }
  }
 },
 "nbformat": 4,
 "nbformat_minor": 2
}
